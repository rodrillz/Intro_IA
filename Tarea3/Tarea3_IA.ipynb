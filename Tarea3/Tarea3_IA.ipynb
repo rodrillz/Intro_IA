{
  "cells": [
    {
      "cell_type": "markdown",
      "source": [
        "# Universidad de O'Higgins\n",
        "\n",
        "## Escuela de Ingeniería\n",
        "## COM4402: Introducción a Inteligencia Artificial\n",
        "\n",
        "### **Tarea 3: Redes Neuronales Convolucionales**\n",
        "\n",
        "### Estudiante: Rodrigo Aníbal Llancao Zúñiga\n",
        "\n",
        "El objetivo de esta tarea es implementar una Red Neuronal Convolucional que logre clasificar los labels correspondientes a la base de datos de manuscritos MNIST y la base de datos de imágenes pequeñas CIFAR-10. La tarea debe ser realizada en Python usando TensorFlow."
      ],
      "metadata": {
        "id": "sOEWO7Nj2up4"
      }
    },
    {
      "cell_type": "code",
      "execution_count": 41,
      "metadata": {
        "id": "YBcJvhzbktIK"
      },
      "outputs": [],
      "source": [
        "\"\"\"Esta area configura el entorno Jupyter.\n",
        "Por favor, no modifique nada en esta celda.\n",
        "\"\"\"\n",
        "import os\n",
        "import sys\n",
        "import time\n",
        "\n",
        "# Importar módulos diversos\n",
        "from IPython.core.display import display, HTML"
      ]
    },
    {
      "cell_type": "code",
      "source": [
        "import os\n",
        "import numpy as np\n",
        "import tensorflow as tf\n",
        "import random\n",
        "from unittest.mock import MagicMock\n",
        "\n",
        "\n",
        "def _print_success_message():\n",
        "    print('Pruebas superadas.')\n",
        "    print('Puede pasar a la siguiente tarea.')\n",
        "\n",
        "def test_normalize_images(function):\n",
        "    test_numbers = np.array([0,127,255])\n",
        "    OUT = function(test_numbers)\n",
        "    test_shape = test_numbers.shape\n",
        "\n",
        "    assert type(OUT).__module__ == np.__name__,\\\n",
        "        'Not Numpy Object'\n",
        "\n",
        "    assert OUT.shape == test_shape,\\\n",
        "        'Incorrect Shape. {} shape found'.format(OUT.shape)\n",
        "    np.testing.assert_almost_equal(test_numbers/255, OUT)\n",
        "\n",
        "    _print_success_message()\n",
        "\n",
        "def test_one_hot(function):\n",
        "    test_numbers = np.arange(10)\n",
        "    number_classes = 10\n",
        "    OUT = function(test_numbers,number_classes)\n",
        "\n",
        "    awns = np.identity(number_classes)\n",
        "    test_shape = awns.shape\n",
        "\n",
        "    assert type(OUT).__module__ == np.__name__,\\\n",
        "        'Not Numpy Object'\n",
        "\n",
        "    assert OUT.shape == test_shape,\\\n",
        "        'Incorrect Shape. {} shape found'.format(OUT.shape)\n",
        "    np.testing.assert_almost_equal(awns, OUT)\n",
        "\n",
        "    _print_success_message()"
      ],
      "metadata": {
        "id": "qJT769UKlMMl"
      },
      "execution_count": 42,
      "outputs": []
    },
    {
      "cell_type": "markdown",
      "metadata": {
        "id": "a6Nu6sG6ktIM"
      },
      "source": [
        "# Convolutional Neural Networks\n",
        "\n",
        "<div class=\"alert alert-warning\">\n",
        "En este notebook nos familiarizaremos con un tipo de *capa* para redes neuronales artificiales llamadas capas convolucionales. Los datos que intentaremos modelar utilizando este tipo de redes serán imágenes.\n",
        "</div>\n",
        "\n",
        "\n",
        "## Imágenes\n",
        "\n",
        "Para un computador, una imagen es una matriz de datos en la que cada píxel está representado por uno o varios valores:\n",
        "\n",
        "\n",
        "### Matriz con un valor por píxel = imágenes en escala de grises\n",
        "\n",
        "<img src=\"https://www.researchgate.net/publication/330902210/figure/fig1/AS:878026619375622@1586349267376/mage-of-Abraham-Lincoln-as-a-matrix-of-pixel-values.ppm\" alt=\"Grayscale Image\" width=\"700\">[image_source](http://openframeworks.cc/ofBook/chapters/image_processing_computer_vision.html)\n",
        "\n",
        "### Matriz con tres valores por píxel = imágenes en color\n",
        " <img src=\"https://raw.githubusercontent.com/vicolab/neural-network-intro/master/3-convnet/resources/color_images.png\" alt=\"Decomposition of a color image\" width=\"400\">[image_source](https://medium.com/@ageitgey/machine-learning-is-fun-part-3-deep-learning-and-convolutional-neural-networks-f40359318721)"
      ]
    },
    {
      "cell_type": "markdown",
      "metadata": {
        "id": "Dq3kGC3qktIN"
      },
      "source": [
        "# El Dataset MNIST\n",
        "\n",
        "La base de datos MNIST (Modified National Institute of Standards and Technology database) es un problema de clasificación multiclase en el que se nos pide que clasifiquemos un dígito ($0-9$) a partir de una imagen en escala de grises de $28\\times 28$:\n",
        "\n",
        ">La base de datos MNIST de dígitos escritos a mano, disponible en esta página, tiene un conjunto de entrenamiento de 60.000 ejemplos y un conjunto de prueba de 10.000 ejemplos. Es un subconjunto de un conjunto más amplio disponible en NIST. Los dígitos han sido normalizados en tamaño y centrados en una imagen de tamaño fijo.\n",
        "\n",
        ">Es una buena base de datos para las personas que quieren probar técnicas de aprendizaje y métodos de reconocimiento de patrones en datos del mundo real, dedicando un esfuerzo mínimo al preprocesamiento y al formateo.\n",
        "\n",
        "[Fuente](https://www.tensorflow.org/datasets/catalog/mnist?hl=es-419)\n",
        "\n",
        "En el siguiente ejemplo cargaremos datos de MNIST.\n",
        "\n",
        "* **input** $\\rightarrow$ 70000 muestras de vectores\n",
        "    * Cada vector tiene 784 dimensiones\n",
        "    * Aquí se presentan como matrices de $28\\times 28$ $\\rightarrow$ Imágenes en escala de grises\n",
        "* **target** $\\rightarrow$ 70000 enteros que indican un dígito de 0 a 9\n",
        "\n",
        "<div class=\"alert alert-info\">\n",
        "<strong>En el siguiente fragmento de código:</strong>\n",
        "<ul>\n",
        "  <li>Cargaremos la base de datos MNIST</li>\n",
        "  <li>Graficaremos la 5ª muestra del conjunto de entrenamiento</li>\n",
        "</ul>\n",
        "</div>"
      ]
    },
    {
      "cell_type": "code",
      "execution_count": 43,
      "metadata": {
        "id": "cR69OkjKktIN",
        "outputId": "0eb1035a-ff4d-4dde-b903-c88e31379467",
        "colab": {
          "base_uri": "https://localhost:8080/",
          "height": 695
        }
      },
      "outputs": [
        {
          "output_type": "stream",
          "name": "stdout",
          "text": [
            "Shape of x_train (60000, 28, 28)\n",
            "Shape of y_train (60000,)\n",
            "Shape of x_test (60000, 28, 28)\n",
            "Shape of y_test (60000,)\n"
          ]
        },
        {
          "output_type": "display_data",
          "data": {
            "text/plain": [
              "<Figure size 700x700 with 1 Axes>"
            ],
            "image/png": "[encoded data removed]"
          },
          "metadata": {}
        }
      ],
      "source": [
        "# Los gráficos se mostrarán dentro del Jupyter Notebook\n",
        "import matplotlib.pyplot as plt\n",
        "from matplotlib.ticker import MaxNLocator\n",
        "\n",
        "# NumPy es un paquete para manipular objetos de matriz de N dimensiones\n",
        "import numpy as np\n",
        "\n",
        "# Pandas es un paquete de análisis de datos\n",
        "import pandas as pd\n",
        "\n",
        "# Mnist wrapper\n",
        "from keras.datasets import mnist\n",
        "\n",
        "# Código para cargar la base de datos MNIST\n",
        "(x_train, y_train), (x_test, y_test) = mnist.load_data()\n",
        "\n",
        "# Imprimir la dimensionalidad de los datos\n",
        "print('Shape of x_train {}'.format(x_train.shape))\n",
        "print('Shape of y_train {}'.format(y_train.shape))\n",
        "print('Shape of x_test {}'.format(x_train.shape))\n",
        "print('Shape of y_test {}'.format(y_train.shape))\n",
        "\n",
        "\n",
        "# Código para graficar la 5ª muestra del conjunto de entrenamiento\n",
        "fig,ax1 = plt.subplots(1,1, figsize=(7, 7))\n",
        "\n",
        "ax1.imshow(x_train[5], cmap='gray')\n",
        "title = 'Target = {}'.format(y_train[5])\n",
        "ax1.set_title(title)\n",
        "ax1.grid(which='Major')\n",
        "ax1.xaxis.set_major_locator(MaxNLocator(28))\n",
        "ax1.yaxis.set_major_locator(MaxNLocator(28))\n",
        "fig.canvas.draw()\n",
        "time.sleep(0.1)"
      ]
    },
    {
      "cell_type": "markdown",
      "metadata": {
        "id": "8-EWrj3AktIO"
      },
      "source": [
        "## Preprocesamiento de datos\n",
        "\n",
        "Antes de empezar a clasificar los dígitos, tenemos que preprocesar los datos.\n",
        "\n",
        "La primera tarea es crear una función que normalice las imágenes de 8 bits de [0,255] a [0,1]:\n",
        "\n",
        "\n",
        "### Parte I:  Implementar una Función de Normalización de Imágenes\n",
        "<div class=\"alert alert-success\">\n",
        "**Tarea**: Implementar una función que normalice las imágenes al intervalo [0,1].\n",
        "<ul>\n",
        "  <li>Las entradas son números enteros en el intervalo [0,255]</li>\n",
        "  <li>Las salidas deben ser flotantes en el intervalo [0,1]</li>\n",
        "</ul>\n",
        "</div>"
      ]
    },
    {
      "cell_type": "code",
      "execution_count": 44,
      "metadata": {
        "id": "kWPxDG9TktIO",
        "outputId": "6f28c778-50b3-4e75-9304-61546c1780a7",
        "colab": {
          "base_uri": "https://localhost:8080/"
        }
      },
      "outputs": [
        {
          "output_type": "stream",
          "name": "stdout",
          "text": [
            "Pruebas superadas.\n",
            "Puede pasar a la siguiente tarea.\n"
          ]
        }
      ],
      "source": [
        "def normalize_images(images):\n",
        "  images = images.astype('float32') / 255.0  # Normaliza las imágenes dividiendo entre 255\n",
        "\n",
        "  return images\n",
        "\n",
        "### *No* modificar las siguientes líneas ###\n",
        "test_normalize_images(normalize_images)\n",
        "\n",
        "# Normalizar los datos para su uso futuro\n",
        "x_train = normalize_images(x_train)\n",
        "x_test = normalize_images(x_test)"
      ]
    },
    {
      "cell_type": "markdown",
      "metadata": {
        "id": "clwDIT2lktIO"
      },
      "source": [
        "### Parte II:  Ampliar la dimensión de la entrada\n",
        "\n",
        "Cuando cargamos el conjunto de datos MNIST, cada dígito estaba representado por una matriz de tamaño $(28, 28)$. Sin embargo, la red neuronal artificial que vamos a construir utiliza el concepto de canales de color y mapas de características incluso para las imágenes en escala de grises. Esto significa que tenemos que transformar $(28, 28)$ en $(28, 28, 1)$.\n",
        "\n",
        "<div class=\"alert alert-success\">\n",
        "**Tarea**: Escribir una pieza de código que añada una nueva dimensión a `x_train` y `x_test`.\n",
        "<ul>\n",
        "  <li>La dimensionalidad de `x_train` debe ser $(60000, 28, 28, 1)$</li>\n",
        "  <li>La dimensionalidad de `x_test` debe ser $(10000, 28, 28, 1)$</li>\n",
        "</ul>\n",
        "    \n",
        "Echa un vistazo en [numpy.expand_dims()](https://docs.scipy.org/doc/numpy/reference/generated/numpy.expand_dims.html) para saber cómo se puede hacer esto.   \n",
        "</div>"
      ]
    },
    {
      "cell_type": "code",
      "execution_count": 45,
      "metadata": {
        "id": "5icwJcPpktIP",
        "outputId": "3fbf29af-586b-460c-973a-090b6998e33f",
        "colab": {
          "base_uri": "https://localhost:8080/"
        }
      },
      "outputs": [
        {
          "output_type": "stream",
          "name": "stdout",
          "text": [
            "Shape of x_train (60000, 28, 28, 1)\n",
            "Shape of y_train (60000,)\n",
            "Shape of x_test (10000, 28, 28, 1)\n",
            "Shape of y_test (10000,)\n"
          ]
        }
      ],
      "source": [
        "# Escribe aquí tu código\n",
        "x_train = np.expand_dims(x_train, axis=3)\n",
        "x_test = np.expand_dims(x_test, axis=3)\n",
        "\n",
        "### *No* modifique las siguientes lineas ###\n",
        "print('Shape of x_train {}'.format(x_train.shape))\n",
        "print('Shape of y_train {}'.format(y_train.shape))\n",
        "print('Shape of x_test {}'.format(x_test.shape))\n",
        "print('Shape of y_test {}'.format(y_test.shape))"
      ]
    },
    {
      "cell_type": "markdown",
      "metadata": {
        "id": "1Bzxb7huktIP"
      },
      "source": [
        "## Preprocesamiento de los labels\n",
        "\n",
        "Para clasificar nuestros dígitos tenemos que utilizar one-hot encoding para representar las salidas de los objetivos. One-hot encoding es una solución robusta y sencilla para representar objetivos multicategóricos.\n",
        "\n",
        "Esta codificación es una representación ideal para entrenar un modelo mediante el algoritmo de descenso de gradiente con la [función softmax](http://www.cs.toronto.edu/~guerzhoy/321/lec/W04/onehot.pdf).\n",
        "\n",
        "### Ejemplo de one-hot encoding\n",
        "\n",
        "Este es un ejemplo de cómo es un esquema de one-hot encoding:\n",
        "\n",
        "$$\n",
        "\\begin{equation*}\n",
        "\\mathbf{y} =\n",
        "\\left[ \\begin{array}{c} 2 \\\\ 8 \\\\ 0 \\\\ 6 \\\\ \\vdots\\end{array} \\right]\n",
        "\\Longrightarrow\n",
        "\\begin{bmatrix}\n",
        "  0 & 0 & 1 & 0 & 0 & 0 & 0 & 0 & 0 & 0\\\\\n",
        "  0 & 0 & 0 & 0 & 0 & 0 & 0 & 0 & 1 & 0\\\\\n",
        "  1 & 0 & 0 & 0 & 0 & 0 & 0 & 0 & 0 & 0\\\\\n",
        "  0 & 0 & 0 & 0 & 0 & 0 & 1 & 0 & 0 & 0\\\\\n",
        "  \\vdots & \\vdots & \\vdots & \\vdots & \\vdots & \\vdots & \\vdots & \\vdots & \\vdots & \\vdots\n",
        "\\end{bmatrix}\n",
        "\\end{equation*}\n",
        "$$\n",
        "\n",
        "En el lado izquierdo tenemos un vector de etiquetas objetivo $\\mathbf{y}$ con $K=10$ número de clases. En el lado derecho podemos ver la versión codificada one-hot del vector $\\mathbf{y}$ donde cada elemento $\\in \\mathbf{y}$ se ha transformado en un vector de filas $K$-dimensional. Sólo el elemento $\\mathbf{y}_i$ se ha fijado en 1, el resto son 0. Por ejemplo, el primer elemento de $\\mathbf{y}$ es 2, lo que significa que el vector codificado en un punto será todo ceros excepto la posición 2 (indexación 0). Del mismo modo, el tercer elemento de $\\mathbf{y}$ es 0, lo que significa que el vector codificado one-hot será todos los ceros a excepción de la posición 0.\n",
        "\n",
        "La idea central es transformar los datos multicategóricos en una combinación de varias clases simples. Al hacer esto podemos, para cada ejemplo, ver si pertenece a alguna clase, donde 1 indica que sí y 0 en caso contrario.\n",
        "\n",
        "\n",
        "### Parte 3:  Implemente una función para One-Hot Encoding\n",
        "\n",
        "<div class=\"alert alert-success\">\n",
        "**Tarea**: Implementar una función que codifique un vector de números en una matriz de $K$ clases:\n",
        "<ul>\n",
        "  <li>El primer argumento es un vector con $N$ muestras (dimensiones)</li>\n",
        "  <li>El segundo argumento es un número $K$ que significa el número de clases</li>\n",
        "  <li>Para cada muestra del vector se creará un array con $K$ dimensiones</li>\n",
        "  <li>La matriz codificada one-hot debe tener ceros en todas las posiciones excepto en la posición indicada por la muestra actual en el vector de entrada</li>\n",
        "</ul>\n",
        "</div>\n",
        "\n",
        "* Intenta implementar esta función por ti mismo. Si tienes dudas, pide ayuda\n",
        "* Si te quedas sin tiempo, utiliza `keras.utils.to_categorical(vector, number_classes)`"
      ]
    },
    {
      "cell_type": "code",
      "execution_count": 46,
      "metadata": {
        "id": "VyL7tvVKktIP",
        "outputId": "f2e6c50f-c448-4361-df44-7d41adbda6e5",
        "colab": {
          "base_uri": "https://localhost:8080/"
        }
      },
      "outputs": [
        {
          "output_type": "stream",
          "name": "stdout",
          "text": [
            "Pruebas superadas.\n",
            "Puede pasar a la siguiente tarea.\n"
          ]
        }
      ],
      "source": [
        "def one_hot(vector, number_classes):\n",
        "    \"\"\"Devuelve una matriz codificada one-hot dado el vector argumento.\n",
        "    \"\"\"\n",
        "    # Aquí almacenaremos nuestros one-hots\n",
        "    one_hot= []\n",
        "\n",
        "    # Aquí se codifica el 'vector' one-hot\n",
        "    for val in vector:\n",
        "        one_hot1 = [0] * number_classes  # Inicializar un array de ceros con longitud number_classes\n",
        "        one_hot1[val] = 1  # Establecer el valor en 1 en la posición indicada por el valor en el vector\n",
        "        one_hot.append(one_hot1)  # Agregar el one-hot actual a la lista\n",
        "\n",
        "    # Transformar la lista en una matriz numpy y retornarla\n",
        "    return np.array(one_hot)\n",
        "\n",
        "\n",
        "### *No* modifique las siguientes lineas ###\n",
        "test_one_hot(one_hot)\n",
        "\n",
        "# One-hot codifica los labels de MNIST\n",
        "y_train = one_hot (y_train, 10)\n",
        "y_test = one_hot(y_test, 10)"
      ]
    },
    {
      "cell_type": "markdown",
      "metadata": {
        "id": "9otf8JgRktIQ"
      },
      "source": [
        "Ahora que hemos añadido una dimensión adicional a los datos de entrada y que hemos codificado los valores objetivo como one-hot, vamos a ver las formas de las matrices de datos."
      ]
    },
    {
      "cell_type": "code",
      "execution_count": 47,
      "metadata": {
        "id": "uq2sjafMktIQ",
        "outputId": "d8304889-5131-4bc4-9532-91ef0f34f0cd",
        "colab": {
          "base_uri": "https://localhost:8080/"
        }
      },
      "outputs": [
        {
          "output_type": "stream",
          "name": "stdout",
          "text": [
            "Shape of x_train (60000, 28, 28, 1)\n",
            "Shape of y_train (60000, 10)\n",
            "Shape of x_test (60000, 28, 28, 1)\n",
            "Shape of y_test (60000, 10)\n"
          ]
        }
      ],
      "source": [
        "print('Shape of x_train {}'.format(x_train.shape))\n",
        "print('Shape of y_train {}'.format(y_train.shape))\n",
        "print('Shape of x_test {}'.format(x_train.shape))\n",
        "print('Shape of y_test {}'.format(y_train.shape))"
      ]
    },
    {
      "cell_type": "markdown",
      "metadata": {
        "id": "2STrOaQAktIQ"
      },
      "source": [
        "# Construir una Red Neuronal Artificial con Convoluciones y Max-Pooling\n",
        "\n",
        "\n",
        "## Convoluciones\n",
        "\n",
        "Si tienes un clasificador que consiste en reconocer gatos en una imagen, es posible que se quiera reconocer/clasificar al animal independientemente de su posición. Para ello, nos basamos en un hecho estadístico: las imágenes naturales son estacionarias [source](http://deeplearning.stanford.edu/wiki/index.php/Feature_extraction_using_convolution).\n",
        "\n",
        "Por lo tanto, si calculamos una estadística para algún lugar de la imagen de entrada, entonces esa estadística también podría ser valiosa para calcularla en algún otro lugar. Se puede aprovechar esta propiedad para definir pequeñas redes que aprendan características que puedan aplicarse a diferentes partes de una imagen.\n",
        "\n",
        "Las redes neuronales convolucionales emplean estos aspectos para crear redes neuronales muy eficaces.\n",
        "\n",
        "Si quiere ver un vídeo corto (con subtítulos) que explica los conceptos de las redes convolucionales, consulte el siguiente enlace de YouTube:\n",
        "\n",
        "* [Udacity - Convolutional Networks](https://www.youtube.com/watch?v=jajksuQW4mc)"
      ]
    },
    {
      "cell_type": "markdown",
      "metadata": {
        "id": "WfLmBUIfktIQ"
      },
      "source": [
        "### Sliding windows (ventanas deslizantes)\n",
        "\n",
        "Una ventana deslizante define una pequeña región de interés en una imagen.\n",
        "\n",
        "La región de interés se utiliza para escanear toda la imagen, como se muestra en la siguiente animación:\n",
        "\n",
        "<img src=\"https://pyimagesearch.com/wp-content/uploads/2014/10/sliding_window_example.gif\" alt=\"Sliding window on a greyscale image\" width=\"200\">\n",
        "\n",
        "\n",
        "Si utilizamos la ventana deslizante para definir cuál es la entrada que ve una pequeña red neuronal, tenemos la llamada convolución.\n",
        "\n",
        "\n",
        "Suponiendo que tenemos una imagen en color, y una pequeña red neuronal con $k$ salidas: para cada posición posible de la ventana deslizante tendremos $k$ salidas.\n",
        "\n",
        "\n",
        "<img src=\"https://raw.githubusercontent.com/vicolab/neural-network-intro/master/3-convnet/resources/conv.png\" alt=\"Output of a convolution at for a given sliding window placement\" width=\"300\">\n",
        "\n",
        "\n",
        "Una vez que la ventana deslizante ha escaneado toda la imagen, se obtiene una matriz tridimensional que puede investigarse más a fondo.\n",
        "\n",
        "\n",
        "<img src=\"https://raw.githubusercontent.com/vicolab/neural-network-intro/master/3-convnet/resources/conv2.png\" alt=\"Output of a convolution at for a given sliding window placement\" width=\"300\">"
      ]
    },
    {
      "cell_type": "markdown",
      "metadata": {
        "collapsed": true,
        "id": "W6aaCNSRktIQ"
      },
      "source": [
        "### Ejemplo de Convolución\n",
        "\n",
        "\n",
        "Supongamos que tenemos una imagen de $5 \\times 5=25$ píxeles:\n",
        "\n",
        "$$\n",
        "\\begin{equation*}\n",
        "\\begin{array}{|c|c|c|c|c|}\n",
        "  \\hline\n",
        "  1 & 1 & 1 & 0 & 0 \\\\\n",
        "  \\hline\n",
        "  0 & 1 & 1 & 1 & 0\\\\\n",
        "  \\hline\n",
        "  0 & 0 & 1 & 1 & 1\\\\\n",
        "  \\hline\n",
        "  0 & 0 & 1 & 1 & 0\\\\\n",
        "  \\hline\n",
        "  0 & 1 & 1 & 0 & 0\\\\\n",
        "  \\hline\n",
        "\\end{array}\n",
        "\\end{equation*}\n",
        "$$\n",
        "\n",
        "Supongamos que definimos una pequeña red neuronal que tiene pesos de $3 \\times 3$ y una única salida.\n",
        "La matriz de pesos es\n",
        "\n",
        "$$\n",
        "\\begin{equation*}\n",
        "\\begin{array}{|c|c|c|}\n",
        "  \\hline\n",
        "  1 & 0 & 1 \\\\\n",
        "  \\hline\n",
        "  0 & 1 & 0\\\\\n",
        "  \\hline\n",
        "  1 & 0 & 1\\\\\n",
        "  \\hline\n",
        "\\end{array}\n",
        "\\end{equation*}\n",
        "$$\n",
        "\n",
        "Al alimentar la red utilizando una ventana deslizante de $3 \\times 3$ obtenemos las siguientes características convolucionadas (también conocidas como mapa de características):\n",
        "\n",
        "$$\n",
        "\\begin{equation*}\n",
        "\\begin{array}{|c|c|c|}\n",
        "  \\hline\n",
        "  4 & 3 & 4 \\\\\n",
        "  \\hline\n",
        "  2 & 4 & 3\\\\\n",
        "  \\hline\n",
        "  2 & 3 & 4\\\\\n",
        "  \\hline\n",
        "\\end{array}\n",
        "\\end{equation*}\n",
        "$$\n",
        "\n",
        "\n",
        "<img src=\"https://raw.githubusercontent.com/vicolab/neural-network-intro/master/3-convnet/resources/Convolution_schematic.gif\" alt=\"Sliding window\" width=\"500\">\n",
        "\n",
        "[source](http://deeplearning.stanford.edu/wiki/index.php/Feature_extraction_using_convolution)\n",
        "\n",
        "El número de los llamados *mapas de características* producidos dependerá del número de salidas de la red neuronal. En este caso sólo tenemos un mapa de características.\n",
        "\n",
        "\n",
        "#### Stride y Padding\n",
        "\n",
        "Podemos utilizar padding y strides para controlar el tamaño de los mapas de características. A continuación se presentan cuatro animaciones que muestran la operación de convolución en una matriz de entrada utilizando diferentes paddings y strides:\n",
        "\n",
        "<table style=\"width:100%\">\n",
        "  <tr>\n",
        "    <td><img src=\"https://upload.wikimedia.org/wikipedia/commons/6/6c/Convolution_arithmetic_-_No_padding_no_strides.gif\" width=\"400\"></td>\n",
        "    <td><img src=\"https://upload.wikimedia.org/wikipedia/commons/b/b9/Convolution_arithmetic_-_No_padding_strides.gif\" width=\"400\"></td>\n",
        "    <td><img src=\"https://upload.wikimedia.org/wikipedia/commons/e/ee/Convolution_arithmetic_-_Same_padding_no_strides.gif\" width=\"400\"></td>\n",
        "    <td><img src=\"https://upload.wikimedia.org/wikipedia/commons/0/04/Convolution_arithmetic_-_Padding_strides.gif\" width=\"400\"></td>\n",
        "  </tr>\n",
        "  <tr>\n",
        "    <td>$padding = 0\\qquad stride = 1$</td>\n",
        "    <td>$padding = 0\\qquad stride = 2$</td>\n",
        "    <td>$padding = 1\\qquad stride = 1$</td>\n",
        "    <td>$padding = 1\\qquad stride = 2$</td>\n",
        "  </tr>\n",
        "</table>\n",
        "\n",
        "[source](https://github.com/vdumoulin/conv_arithmetic), [paper](https://arxiv.org/abs/1603.07285)\n",
        "\n",
        "En el caso de las imágenes, *padding* se traduce en el número de píxeles nuevos que introducimos alrededor del borde de una imagen, mientras que *stride* es la distancia a la que se desplaza el núcleo de convolución después de cada aplicación.\n",
        "\n",
        "Terminología menor vista en ciertos tipos de literatura:\n",
        "\n",
        "* **Padding válido** equivale a zero padding\n",
        "* **Mismo padding** significa que el padding utilizado es una función del tamaño del kernel para que el tamaño de salida tenga el mismo tamaño que el de entrada\n",
        "\n",
        "\n",
        "### Cálculo del tamaño de las convoluciones\n",
        "\n",
        "Para calcular el tamaño del mapa de características resultante de una convolución necesitamos conocer el tamaño de la entrada, el tamaño del núcleo (filtro), el stride y el padding:\n",
        "\n",
        "$$\n",
        "\\begin{equation*}\n",
        "output = \\frac{1}{stride} (input -  kernel + 2 * padding) + 1\n",
        "\\end{equation*}\n",
        "$$\n",
        "\n",
        "En el caso de las entradas bidimensionales, la altura y la anchura se pueden calcular así:\n",
        "\n",
        "$$\n",
        "\\begin{equation*}\n",
        "height_{new} =  \\frac{1}{stride} (height_{input} - height_{kernel} + 2 * padding)+1\n",
        "\\end{equation*}\n",
        "$$\n",
        "<br class=\"math\" />\n",
        "$$\n",
        "\\begin{equation*}\n",
        "widht_{new} =  \\frac{1}{stride} (widht_{input} - widht_{kernel} + 2 * padding)+1\n",
        "\\end{equation*}\n",
        "$$\n",
        "\n",
        "\n",
        "#### Ejemplo :\n",
        "\n",
        "Supongamos que tenemos una imagen de $6 \\times 6$. Si rellenamos esta imagen con un solo píxel y luego la convolucionamos con un núcleo de $3 \\times 3$ utilizando un stride de $2$, obtenemos el siguiente mapa de características (feature map) de $3 \\times 3$:\n",
        "\n",
        "<img src=\"https://raw.githubusercontent.com/vicolab/neural-network-intro/master/3-convnet/resources/odd.gif\" alt=\"Examples math\" width=\"300\">\n",
        "\n",
        "Podemos calcular el tamaño de salida utilizando las ecuaciones anteriores:\n",
        "\n",
        "$$\n",
        "\\begin{equation*}\n",
        "\\begin{aligned}\n",
        "height_{new} &= \\frac{1}{stride} (height_{input} - height_{kernel} + 2 * padding) + 1 \\\\\n",
        "&= \\frac{1}{2} (6 - 3 + 2 * 1) + 1 \\\\\n",
        "&= \\frac{1}{2}(5)+1 \\\\\n",
        "&= 3\n",
        "\\end{aligned}\n",
        "\\end{equation*}\n",
        "$$\n",
        "* Observe que redondeamos los números flotantes, por lo que pasamos de 3,5 a 3."
      ]
    },
    {
      "cell_type": "markdown",
      "metadata": {
        "id": "UR7sr9F1ktIR"
      },
      "source": [
        "## Pooling\n",
        "\n",
        "Se ha convertido en una práctica común el uso de la capa de pooling entre las capas convolucionales.\n",
        "\n",
        "Las redes neuronales convolucionales exitosas como [alexnet](https://papers.nips.cc/paper/4824-imagenet-classification-with-deep-convolutional-neural-networks), [VGG16, VGG19](https://arxiv.org/abs/1409.1556) emplean esta técnica.\n",
        "\n",
        "Las capas de pooling también dependen de las ventanas deslizantes, pero en lugar de utilizar la ventana como entradas para las neuronas, los datos de entrada deslizantes pasan por un operador `max`, `mean` o algún otro.\n",
        "\n",
        "### Un ejemplo de Max-Pooling\n",
        "\n",
        "<img src=\"https://raw.githubusercontent.com/vicolab/neural-network-intro/master/3-convnet/resources/pooling.gif\" alt=\"Max Pooling\" width=\"300\">\n",
        "\n",
        "El max-pooling tiene varias ventajas:\n",
        "* Si tiene imágenes en las que la misma clase tiene imágenes similares con pequeños desplazamientos en la posición de los píxeles, el max pooling mitigará las pequeñas traslaciones.\n",
        "* Introduce zero parameters en el modelo, ya que los operadores de máxima y media son funciones fijas que no dependen de los pesos\n",
        "* Reduce la cantidad de datos que hay que procesar en la siguiente capa, asegurando al mismo tiempo cierta invariabilidad de la traslación de los píxeles.\n",
        "* Se utilizan normalmente con zero padding (también conocido padding válido).\n",
        "* Siguen la misma matemática dimensional que las convoluciones\n",
        "\n",
        "[Puede leer más sobre los operadores de pooling aquí](http://cs231n.github.io/convolutional-networks/#pool)"
      ]
    },
    {
      "cell_type": "markdown",
      "metadata": {
        "id": "Xn8Ks4nQktIR"
      },
      "source": [
        "## Implementando una Red Convolucional\n",
        "\n",
        "Implementaremos la siguiente CNN:\n",
        "\n",
        "<img src=\"https://raw.githubusercontent.com/vicolab/neural-network-intro/master/3-convnet/resources/mnist_net.png\" alt=\"CNN\" width=\"1280\">\n",
        "\n",
        "Los componentes de esta red pueden verse a continuación:\n",
        "\n",
        "Defina una entrada:\n",
        "\n",
        "* `input_x = Input(shape=sample_shape)`\n",
        "* `sample_shape` es un parámetro de entrada\n",
        "    \n",
        "Genere 32 kernel maps utilizando una capa convolucional:\n",
        "\n",
        "* La convolución utiliza un kernel de $3 \\times 3$, stride 1, zero padding, y una función de activación [ReLU](https://en.wikipedia.org/wiki/Rectifier_(neural_networks)\n",
        "* Utilice [Conv2D](https://keras.io/layers/convolutional/) desde la librería Keras\n",
        "* `output_layer = Conv2D(PARAMETERS)(input_layer)`\n",
        "    \n",
        "Genere 64 kernel maps utilizando una capa convolucional:\n",
        "\n",
        "* La convolución utiliza un kernel de $3 \\times 3$, stride 1, zero padding, y una función de activación [ReLU]\n",
        "* Utilice [Conv2D](https://keras.io/layers/convolutional/)\n",
        "* `output_layer = Conv2D(PARAMETERS)(input_layer)`\n",
        "\n",
        "Reduzca los feature maps utilizando max-pooling:\n",
        "\n",
        "* La capa max-pooling debe utilizar un kernel de $2 \\times 2$, stride `None`, y zero padding\n",
        "* Utilice [MaxPooling2D](https://keras.io/layers/pooling/#maxpooling2d)\n",
        "* `output_layer = MaxPooling2D(PARAMETERS)(input_layer)`\n",
        "\n",
        "Aplane el feature map:\n",
        "\n",
        "* [Flatten](https://keras.io/layers/core/#flatten)\n",
        "\n",
        "Capa fully-connected, i.e. `Dense`, a 128 dimensiones:\n",
        "\n",
        "* Función de activación [ReLU](https://en.wikipedia.org/wiki/Rectifier_(neural_networks)\n",
        "* [Dense](https://keras.io/layers/core/#dense)\n",
        "\n",
        "Capa fully-connected, i.e. `Dense`, a $K$ clases (argumento) dimensiones:\n",
        "\n",
        "* Función de activación [Softmax](https://en.wikipedia.org/wiki/Softmax_function)\n",
        "* [Dense](https://keras.io/layers/core/#dense)\n",
        "\n",
        "\n",
        "### Parte IV:  Implemente una Convolutional Neural Network\n",
        "\n",
        "Es hora de implementar nuestra primera red neuronal convolucional.\n",
        "\n",
        "<div class=\"alert alert-success\">\n",
        "<strong>Tarea:</strong> Cree una función `net_1()` que implemente la red especificada anteriormente.\n",
        "</div>"
      ]
    },
    {
      "cell_type": "code",
      "execution_count": 48,
      "metadata": {
        "id": "ohigxWMPktIR"
      },
      "outputs": [],
      "source": [
        "# Importar la librería Keras\n",
        "import keras\n",
        "from keras.models import Model\n",
        "from keras.layers import *\n",
        "\n",
        "\n",
        "def net_1(sample_shape, nb_classes):\n",
        "    # Defina la entrada de la red para que tenga la dimensión `sample_shape`\n",
        "    input_x = Input(shape=sample_shape)\n",
        "\n",
        "    # Generar 32 kernel maps utilizando una capa convolucional\n",
        "    x = Conv2D(32, (3, 3), padding='same', activation='relu')(input_x)\n",
        "\n",
        "    # Generar 64 kernel maps utilizando una capa convolucional\n",
        "    x = Conv2D(64, (3, 3), padding='same', activation='relu')(x)\n",
        "\n",
        "    # Reducir los feature maps utilizando max-pooling\n",
        "    x = MaxPooling2D(pool_size=(2, 2), padding='same')(x)\n",
        "\n",
        "    # Aplanar el feature map\n",
        "    x = Flatten()(x)\n",
        "\n",
        "    # Capa fully-connected, 128 dimensiones con activación ReLU\n",
        "    x = Dense(128, activation='relu')(x)\n",
        "\n",
        "    # Capa fully-connected a nb_classes dimensiones con activación Softmax\n",
        "    probabilities = Dense(nb_classes, activation='softmax')(x)\n",
        "\n",
        "    # Definir la salida\n",
        "    model = Model(inputs=input_x, outputs=probabilities)\n",
        "\n",
        "    return model"
      ]
    },
    {
      "cell_type": "markdown",
      "metadata": {
        "id": "hOEKWKGJktIR"
      },
      "source": [
        "<div class=\"alert alert-info\">\n",
        "  <strong>En el siguiente fragmento de código</strong>\n",
        "<ul>\n",
        "  <li>Crearemos una red utilizando la función que acabas de implementar</li>\n",
        "  <li>Mostrar un resumen de la red</li>\n",
        "</ul>\n",
        "</div>"
      ]
    },
    {
      "cell_type": "code",
      "execution_count": 49,
      "metadata": {
        "id": "W4fIdEWmktIR",
        "colab": {
          "base_uri": "https://localhost:8080/"
        },
        "outputId": "aeabb72e-b330-468e-e9c4-43fb19e3ecf4"
      },
      "outputs": [
        {
          "output_type": "stream",
          "name": "stdout",
          "text": [
            "Model: \"model_6\"\n",
            "_________________________________________________________________\n",
            " Layer (type)                Output Shape              Param #   \n",
            "=================================================================\n",
            " input_7 (InputLayer)        [(None, 28, 28, 1)]       0         \n",
            "                                                                 \n",
            " conv2d_12 (Conv2D)          (None, 28, 28, 32)        320       \n",
            "                                                                 \n",
            " conv2d_13 (Conv2D)          (None, 28, 28, 64)        18496     \n",
            "                                                                 \n",
            " max_pooling2d_4 (MaxPoolin  (None, 14, 14, 64)        0         \n",
            " g2D)                                                            \n",
            "                                                                 \n",
            " flatten_6 (Flatten)         (None, 12544)             0         \n",
            "                                                                 \n",
            " dense_12 (Dense)            (None, 128)               1605760   \n",
            "                                                                 \n",
            " dense_13 (Dense)            (None, 10)                1290      \n",
            "                                                                 \n",
            "=================================================================\n",
            "Total params: 1625866 (6.20 MB)\n",
            "Trainable params: 1625866 (6.20 MB)\n",
            "Non-trainable params: 0 (0.00 Byte)\n",
            "_________________________________________________________________\n"
          ]
        }
      ],
      "source": [
        "# Dimensión de la muestra\n",
        "sample_shape = x_train[0].shape\n",
        "\n",
        "# Construir una red\n",
        "model = net_1(sample_shape, 10)\n",
        "model.summary()"
      ]
    },
    {
      "cell_type": "markdown",
      "metadata": {
        "id": "tnwrkMN9ktIR"
      },
      "source": [
        "### Parte V: Definir los Hiperparámetros y entrenar la red\n",
        "\n",
        "Tenemos que definir los hiperparámetros para que nuestra red pueda aprender.\n",
        "\n",
        "<div class=\"alert alert-success\">\n",
        "\n",
        "<strong>Tarea:</strong> Afina los hiperparámetros hasta que su `loss` y `val_loss` converjan a números bajos:\n",
        "   \n",
        "<ul>\n",
        "  <li>Tamaño de batch</li>\n",
        "  <li>Número de épocas de entrenamiento</li>\n",
        "</ul>\n",
        "</div>\n"
      ]
    },
    {
      "cell_type": "code",
      "execution_count": null,
      "metadata": {
        "id": "72wllVqLktIR",
        "colab": {
          "base_uri": "https://localhost:8080/",
          "height": 1000
        },
        "outputId": "56c0d471-5c88-4e44-f399-bfb22e05fcfa"
      },
      "outputs": [
        {
          "output_type": "stream",
          "name": "stdout",
          "text": [
            "Epoch 1/30\n",
            "1688/1688 - 8s - loss: 2.2098 - accuracy: 0.4189 - val_loss: 2.0787 - val_accuracy: 0.6717 - 8s/epoch - 5ms/step\n",
            "Epoch 2/30\n",
            "1688/1688 - 7s - loss: 1.8715 - accuracy: 0.6870 - val_loss: 1.5643 - val_accuracy: 0.7553 - 7s/epoch - 4ms/step\n",
            "Epoch 3/30\n",
            "1688/1688 - 7s - loss: 1.2712 - accuracy: 0.7589 - val_loss: 0.9209 - val_accuracy: 0.8287 - 7s/epoch - 4ms/step\n",
            "Epoch 4/30\n",
            "1688/1688 - 7s - loss: 0.8049 - accuracy: 0.8151 - val_loss: 0.5986 - val_accuracy: 0.8673 - 7s/epoch - 4ms/step\n",
            "Epoch 5/30\n",
            "1688/1688 - 7s - loss: 0.6000 - accuracy: 0.8453 - val_loss: 0.4628 - val_accuracy: 0.8898 - 7s/epoch - 4ms/step\n",
            "Epoch 6/30\n",
            "1688/1688 - 7s - loss: 0.5032 - accuracy: 0.8641 - val_loss: 0.3922 - val_accuracy: 0.9020 - 7s/epoch - 4ms/step\n",
            "Epoch 7/30\n",
            "1688/1688 - 7s - loss: 0.4476 - accuracy: 0.8751 - val_loss: 0.3496 - val_accuracy: 0.9083 - 7s/epoch - 4ms/step\n",
            "Epoch 8/30\n",
            "1688/1688 - 7s - loss: 0.4119 - accuracy: 0.8839 - val_loss: 0.3215 - val_accuracy: 0.9138 - 7s/epoch - 4ms/step\n",
            "Epoch 9/30\n",
            "1688/1688 - 7s - loss: 0.3868 - accuracy: 0.8898 - val_loss: 0.3019 - val_accuracy: 0.9168 - 7s/epoch - 4ms/step\n",
            "Epoch 10/30\n",
            "1688/1688 - 7s - loss: 0.3685 - accuracy: 0.8947 - val_loss: 0.2876 - val_accuracy: 0.9213 - 7s/epoch - 4ms/step\n",
            "Epoch 11/30\n",
            "1688/1688 - 8s - loss: 0.3537 - accuracy: 0.8986 - val_loss: 0.2752 - val_accuracy: 0.9230 - 8s/epoch - 5ms/step\n",
            "Epoch 12/30\n",
            "1688/1688 - 7s - loss: 0.3416 - accuracy: 0.9013 - val_loss: 0.2659 - val_accuracy: 0.9262 - 7s/epoch - 4ms/step\n",
            "Epoch 13/30\n",
            "1688/1688 - 8s - loss: 0.3313 - accuracy: 0.9043 - val_loss: 0.2580 - val_accuracy: 0.9278 - 8s/epoch - 5ms/step\n",
            "Epoch 14/30\n",
            "1688/1688 - 7s - loss: 0.3224 - accuracy: 0.9070 - val_loss: 0.2505 - val_accuracy: 0.9293 - 7s/epoch - 4ms/step\n",
            "Epoch 15/30\n",
            "1688/1688 - 8s - loss: 0.3146 - accuracy: 0.9091 - val_loss: 0.2449 - val_accuracy: 0.9312 - 8s/epoch - 4ms/step\n",
            "Epoch 16/30\n",
            "1688/1688 - 7s - loss: 0.3077 - accuracy: 0.9108 - val_loss: 0.2391 - val_accuracy: 0.9337 - 7s/epoch - 4ms/step\n",
            "Epoch 17/30\n",
            "1688/1688 - 7s - loss: 0.3013 - accuracy: 0.9128 - val_loss: 0.2343 - val_accuracy: 0.9338 - 7s/epoch - 4ms/step\n",
            "Epoch 18/30\n",
            "1688/1688 - 7s - loss: 0.2955 - accuracy: 0.9143 - val_loss: 0.2304 - val_accuracy: 0.9347 - 7s/epoch - 4ms/step\n",
            "Epoch 19/30\n",
            "1688/1688 - 7s - loss: 0.2900 - accuracy: 0.9160 - val_loss: 0.2260 - val_accuracy: 0.9367 - 7s/epoch - 4ms/step\n",
            "Epoch 20/30\n",
            "1688/1688 - 7s - loss: 0.2850 - accuracy: 0.9175 - val_loss: 0.2221 - val_accuracy: 0.9375 - 7s/epoch - 4ms/step\n",
            "Epoch 21/30\n",
            "1688/1688 - 7s - loss: 0.2800 - accuracy: 0.9189 - val_loss: 0.2189 - val_accuracy: 0.9395 - 7s/epoch - 4ms/step\n",
            "Epoch 22/30\n",
            "1688/1688 - 7s - loss: 0.2755 - accuracy: 0.9201 - val_loss: 0.2147 - val_accuracy: 0.9407 - 7s/epoch - 4ms/step\n",
            "Epoch 23/30\n",
            "1688/1688 - 7s - loss: 0.2709 - accuracy: 0.9217 - val_loss: 0.2113 - val_accuracy: 0.9413 - 7s/epoch - 4ms/step\n",
            "Epoch 24/30\n",
            "1688/1688 - 8s - loss: 0.2665 - accuracy: 0.9228 - val_loss: 0.2087 - val_accuracy: 0.9415 - 8s/epoch - 5ms/step\n",
            "Epoch 25/30\n",
            "1688/1688 - 7s - loss: 0.2622 - accuracy: 0.9237 - val_loss: 0.2050 - val_accuracy: 0.9432 - 7s/epoch - 4ms/step\n",
            "Epoch 26/30\n",
            "1688/1688 - 7s - loss: 0.2580 - accuracy: 0.9247 - val_loss: 0.2020 - val_accuracy: 0.9443 - 7s/epoch - 4ms/step\n",
            "Epoch 27/30\n",
            "1688/1688 - 7s - loss: 0.2540 - accuracy: 0.9258 - val_loss: 0.1991 - val_accuracy: 0.9448 - 7s/epoch - 4ms/step\n",
            "Epoch 28/30\n",
            "1688/1688 - 7s - loss: 0.2500 - accuracy: 0.9270 - val_loss: 0.1958 - val_accuracy: 0.9453 - 7s/epoch - 4ms/step\n",
            "Epoch 29/30\n",
            "1688/1688 - 7s - loss: 0.2462 - accuracy: 0.9282 - val_loss: 0.1928 - val_accuracy: 0.9458 - 7s/epoch - 4ms/step\n",
            "Epoch 30/30\n",
            "1688/1688 - 7s - loss: 0.2425 - accuracy: 0.9291 - val_loss: 0.1908 - val_accuracy: 0.9468 - 7s/epoch - 4ms/step\n"
          ]
        },
        {
          "output_type": "display_data",
          "data": {
            "text/plain": [
              "<Figure size 640x480 with 1 Axes>"
            ],
            "image/png": "[encoded data removed]"
          },
          "metadata": {}
        },
        {
          "output_type": "stream",
          "name": "stdout",
          "text": [
            "================================================================================\n",
            "Assesing Test dataset...\n",
            "================================================================================\n",
            "Test loss: 0.22476215660572052\n",
            "Test accuracy: 0.9348000288009644\n"
          ]
        }
      ],
      "source": [
        "# Defina los hiperparámetros\n",
        "batch_size = 32\n",
        "epochs = 30\n",
        "\n",
        "### *No* modifique las siguientes líneas ###\n",
        "\n",
        "# No hay tasa de aprendizaje porque estamos usando los valores recomendados\n",
        "# para el optimizador Adadelta. Más información aquí:\n",
        "# https://keras.io/optimizers/\n",
        "\n",
        "# Necesitamos compilar nuestro modelo\n",
        "model.compile(loss='categorical_crossentropy',\n",
        "              optimizer='Adadelta',\n",
        "              metrics=['accuracy'])\n",
        "\n",
        "# Entrenar\n",
        "logs = model.fit(x_train, y_train,\n",
        "                 batch_size=batch_size,\n",
        "                 epochs=epochs,\n",
        "                 verbose=2,\n",
        "                 validation_split=0.1)\n",
        "\n",
        "# Graficar losses y el accuracy\n",
        "fig, ax = plt.subplots(1,1)\n",
        "\n",
        "pd.DataFrame(logs.history).plot(ax=ax)\n",
        "ax.grid(linestyle='dotted')\n",
        "ax.legend()\n",
        "\n",
        "plt.show()\n",
        "\n",
        "# Evaluar el rendimiento\n",
        "print('='*80)\n",
        "print('Assesing Test dataset...')\n",
        "print('='*80)\n",
        "\n",
        "score = model.evaluate(x_test, y_test, verbose=0)\n",
        "print('Test loss:', score[0])\n",
        "print('Test accuracy:', score[1])"
      ]
    },
    {
      "cell_type": "markdown",
      "metadata": {
        "id": "UptQXC8kktIR"
      },
      "source": [
        "## ¿Deberíamos usar Max-Pooling?\n",
        "\n",
        "Recientemente se ha discutido si max-pooling es una buena solución para reducir la cantidad de datos entre capas de una red. Algunos enfoques recientes muestran que se puede conseguir un rendimiento similar, y a veces mejor, utilizando convoluciones con strides mayores que 1.\n",
        "\n",
        "\n",
        "> Deshacerse de pooling. A mucha gente no le gusta la operación de pooling y cree que se puede prescindir de ella. Por ejemplo, [Striving for Simplicity: The All Convolutional Net](http://arxiv.org/abs/1412.6806) propone descartar la capa de pooling en favor de una arquitectura que sólo conste de capas CONV repetidas. Para reducir el tamaño de la representación, sugieren utilizar un stride mayor en la capa CONV de vez en cuando. También se ha descubierto que descartar las capas de pooling es importante para entrenar buenos modelos generativos, como los autoencoders variacionales (VAE) o las redes generativas adversariales (GAN). Parece probable que las arquitecturas futuras tengan muy pocas o ninguna capa de pooling.\n",
        "\n",
        "[source](http://cs231n.github.io/convolutional-networks/#pool)\n",
        "\n",
        "\n",
        "### Parte VI: Implemente una Convolutional Network sin Max-Pooling\n",
        "\n",
        "Implemente una Convolutional Neural Network sin capas de pooling:\n",
        "\n",
        "<img src=\"https://raw.githubusercontent.com/vicolab/neural-network-intro/master/3-convnet/resources/mnist_net2.png\" alt=\"CNN\" width=\"1280\">\n",
        "\n",
        "<div class=\"alert alert-success\">\n",
        "<strong>Tarea:</strong> Replique la red que construimos anteriormente (`net_1()`), pero esta vez:\n",
        "<ul>\n",
        "  <li>Remueva la capa de max pooling y añada un stride=2 al segundo bloque de convolución.\n",
        "  </li>\n",
        "</ul>\n",
        "</div>\n",
        "\n",
        "Observación: vea [Conv2D](https://keras.io/layers/convolutional/)\n",
        "      \n"
      ]
    },
    {
      "cell_type": "code",
      "execution_count": 50,
      "metadata": {
        "id": "2wVic-_qktIS"
      },
      "outputs": [],
      "source": [
        "def net_2(sample_shape, nb_classes):\n",
        "     #Defina la entrada de la red para que tenga la dimensión `sample_shape`\n",
        "    input_x = Input(shape=sample_shape)\n",
        "\n",
        "    # Generar 32 kernel maps utilizando una capa convolucional\n",
        "    x = Conv2D(32, (3, 3), padding='same', activation='relu')(input_x)\n",
        "\n",
        "    # Generar 64 kernel maps utilizando una capa convolucional con stride=2\n",
        "    x = Conv2D(64, (3, 3), padding='same', activation='relu', strides=2)(x)\n",
        "\n",
        "    # Aplanar el feature map\n",
        "    x = Flatten()(x)\n",
        "\n",
        "    # Capa fully-connected, 128 dimensiones con activación ReLU\n",
        "    x = Dense(128, activation='relu')(x)\n",
        "\n",
        "    # Capa fully-connected a nb_classes dimensiones con activación Softmax\n",
        "    probabilities = Dense(nb_classes, activation='softmax')(x)\n",
        "\n",
        "    # Definir la salida\n",
        "    model = Model(inputs=input_x, outputs=probabilities)\n",
        "\n",
        "    return model"
      ]
    },
    {
      "cell_type": "markdown",
      "metadata": {
        "id": "rOvZlEonktIS"
      },
      "source": [
        "<div class=\"alert alert-info\">\n",
        "  <strong>En el siguiente fragmento de códigol:</strong>\n",
        "<ul>\n",
        "  <li>Crearemos una red utilizando la función que acabamos de implementar</li>\n",
        "  <li>Mostraremos un resumen de la red</li>\n",
        "</ul>\n",
        "</div>"
      ]
    },
    {
      "cell_type": "code",
      "execution_count": 51,
      "metadata": {
        "id": "w2HVQgdxktIS",
        "colab": {
          "base_uri": "https://localhost:8080/"
        },
        "outputId": "edd30eea-c331-4e8f-bcb7-90ac8775d096"
      },
      "outputs": [
        {
          "output_type": "stream",
          "name": "stdout",
          "text": [
            "Model: \"model_7\"\n",
            "_________________________________________________________________\n",
            " Layer (type)                Output Shape              Param #   \n",
            "=================================================================\n",
            " input_8 (InputLayer)        [(None, 28, 28, 1)]       0         \n",
            "                                                                 \n",
            " conv2d_14 (Conv2D)          (None, 28, 28, 32)        320       \n",
            "                                                                 \n",
            " conv2d_15 (Conv2D)          (None, 14, 14, 64)        18496     \n",
            "                                                                 \n",
            " flatten_7 (Flatten)         (None, 12544)             0         \n",
            "                                                                 \n",
            " dense_14 (Dense)            (None, 128)               1605760   \n",
            "                                                                 \n",
            " dense_15 (Dense)            (None, 10)                1290      \n",
            "                                                                 \n",
            "=================================================================\n",
            "Total params: 1625866 (6.20 MB)\n",
            "Trainable params: 1625866 (6.20 MB)\n",
            "Non-trainable params: 0 (0.00 Byte)\n",
            "_________________________________________________________________\n"
          ]
        }
      ],
      "source": [
        "# Dimensión de la muestra\n",
        "sample_shape = x_train[0].shape\n",
        "\n",
        "# Construir una red\n",
        "model = net_2(sample_shape, 10)\n",
        "model.summary()"
      ]
    },
    {
      "cell_type": "markdown",
      "metadata": {
        "id": "-04NTnT-ktIS"
      },
      "source": [
        "### Parte VII: Definir los Hiperparámetros y Entrenar la Red Neuronal\n",
        "\n",
        "Como antes, necesitamos definir algunos hiperparámetros y entrenar la red. Siéntase libre de reutilizar los hiperparámetros que encontró antes.\n",
        "\n",
        "<div class=\"alert alert-success\">\n",
        "<strong>Tarea:</strong> Afinar los siguientes hiperparámetros hasta que `loss` y `val_loss` converjan en números bajos:\n",
        "<ul>\n",
        "  <li>Tamaño de batch</li>\n",
        "  <li>Número de epocas de entrenamiento</li>\n",
        "</ul>\n",
        "</div>"
      ]
    },
    {
      "cell_type": "code",
      "execution_count": null,
      "metadata": {
        "id": "VLYQbj8dktIS",
        "colab": {
          "base_uri": "https://localhost:8080/",
          "height": 499
        },
        "outputId": "579e35c5-143d-4baf-d89f-1ecdb03dfa40"
      },
      "outputs": [
        {
          "output_type": "stream",
          "name": "stdout",
          "text": [
            "Epoch 1/30\n",
            "1688/1688 - 7s - loss: 1.3128e-04 - accuracy: 1.0000 - val_loss: 0.1196 - val_accuracy: 0.9897 - 7s/epoch - 4ms/step\n",
            "Epoch 2/30\n"
          ]
        },
        {
          "output_type": "error",
          "ename": "KeyboardInterrupt",
          "evalue": "ignored",
          "traceback": [
            "\u001b[0;31m---------------------------------------------------------------------------\u001b[0m",
            "\u001b[0;31mKeyboardInterrupt\u001b[0m                         Traceback (most recent call last)",
            "\u001b[0;32m<ipython-input-30-90f199a2e4f6>\u001b[0m in \u001b[0;36m<cell line: 13>\u001b[0;34m()\u001b[0m\n\u001b[1;32m     11\u001b[0m \u001b[0;34m\u001b[0m\u001b[0m\n\u001b[1;32m     12\u001b[0m \u001b[0;31m# Entrenar\u001b[0m\u001b[0;34m\u001b[0m\u001b[0;34m\u001b[0m\u001b[0m\n\u001b[0;32m---> 13\u001b[0;31m logs = model.fit(x_train, y_train,\n\u001b[0m\u001b[1;32m     14\u001b[0m           \u001b[0mbatch_size\u001b[0m\u001b[0;34m=\u001b[0m\u001b[0mbatch_size\u001b[0m\u001b[0;34m,\u001b[0m\u001b[0;34m\u001b[0m\u001b[0;34m\u001b[0m\u001b[0m\n\u001b[1;32m     15\u001b[0m           \u001b[0mepochs\u001b[0m\u001b[0;34m=\u001b[0m\u001b[0mepochs\u001b[0m\u001b[0;34m,\u001b[0m\u001b[0;34m\u001b[0m\u001b[0;34m\u001b[0m\u001b[0m\n",
            "\u001b[0;32m/usr/local/lib/python3.10/dist-packages/keras/src/utils/traceback_utils.py\u001b[0m in \u001b[0;36merror_handler\u001b[0;34m(*args, **kwargs)\u001b[0m\n\u001b[1;32m     63\u001b[0m         \u001b[0mfiltered_tb\u001b[0m \u001b[0;34m=\u001b[0m \u001b[0;32mNone\u001b[0m\u001b[0;34m\u001b[0m\u001b[0;34m\u001b[0m\u001b[0m\n\u001b[1;32m     64\u001b[0m         \u001b[0;32mtry\u001b[0m\u001b[0;34m:\u001b[0m\u001b[0;34m\u001b[0m\u001b[0;34m\u001b[0m\u001b[0m\n\u001b[0;32m---> 65\u001b[0;31m             \u001b[0;32mreturn\u001b[0m \u001b[0mfn\u001b[0m\u001b[0;34m(\u001b[0m\u001b[0;34m*\u001b[0m\u001b[0margs\u001b[0m\u001b[0;34m,\u001b[0m \u001b[0;34m**\u001b[0m\u001b[0mkwargs\u001b[0m\u001b[0;34m)\u001b[0m\u001b[0;34m\u001b[0m\u001b[0;34m\u001b[0m\u001b[0m\n\u001b[0m\u001b[1;32m     66\u001b[0m         \u001b[0;32mexcept\u001b[0m \u001b[0mException\u001b[0m \u001b[0;32mas\u001b[0m \u001b[0me\u001b[0m\u001b[0;34m:\u001b[0m\u001b[0;34m\u001b[0m\u001b[0;34m\u001b[0m\u001b[0m\n\u001b[1;32m     67\u001b[0m             \u001b[0mfiltered_tb\u001b[0m \u001b[0;34m=\u001b[0m \u001b[0m_process_traceback_frames\u001b[0m\u001b[0;34m(\u001b[0m\u001b[0me\u001b[0m\u001b[0;34m.\u001b[0m\u001b[0m__traceback__\u001b[0m\u001b[0;34m)\u001b[0m\u001b[0;34m\u001b[0m\u001b[0;34m\u001b[0m\u001b[0m\n",
            "\u001b[0;32m/usr/local/lib/python3.10/dist-packages/keras/src/engine/training.py\u001b[0m in \u001b[0;36mfit\u001b[0;34m(self, x, y, batch_size, epochs, verbose, callbacks, validation_split, validation_data, shuffle, class_weight, sample_weight, initial_epoch, steps_per_epoch, validation_steps, validation_batch_size, validation_freq, max_queue_size, workers, use_multiprocessing)\u001b[0m\n\u001b[1;32m   1781\u001b[0m                         ):\n\u001b[1;32m   1782\u001b[0m                             \u001b[0mcallbacks\u001b[0m\u001b[0;34m.\u001b[0m\u001b[0mon_train_batch_begin\u001b[0m\u001b[0;34m(\u001b[0m\u001b[0mstep\u001b[0m\u001b[0;34m)\u001b[0m\u001b[0;34m\u001b[0m\u001b[0;34m\u001b[0m\u001b[0m\n\u001b[0;32m-> 1783\u001b[0;31m                             \u001b[0mtmp_logs\u001b[0m \u001b[0;34m=\u001b[0m \u001b[0mself\u001b[0m\u001b[0;34m.\u001b[0m\u001b[0mtrain_function\u001b[0m\u001b[0;34m(\u001b[0m\u001b[0miterator\u001b[0m\u001b[0;34m)\u001b[0m\u001b[0;34m\u001b[0m\u001b[0;34m\u001b[0m\u001b[0m\n\u001b[0m\u001b[1;32m   1784\u001b[0m                             \u001b[0;32mif\u001b[0m \u001b[0mdata_handler\u001b[0m\u001b[0;34m.\u001b[0m\u001b[0mshould_sync\u001b[0m\u001b[0;34m:\u001b[0m\u001b[0;34m\u001b[0m\u001b[0;34m\u001b[0m\u001b[0m\n\u001b[1;32m   1785\u001b[0m                                 \u001b[0mcontext\u001b[0m\u001b[0;34m.\u001b[0m\u001b[0masync_wait\u001b[0m\u001b[0;34m(\u001b[0m\u001b[0;34m)\u001b[0m\u001b[0;34m\u001b[0m\u001b[0;34m\u001b[0m\u001b[0m\n",
            "\u001b[0;32m/usr/local/lib/python3.10/dist-packages/tensorflow/python/util/traceback_utils.py\u001b[0m in \u001b[0;36merror_handler\u001b[0;34m(*args, **kwargs)\u001b[0m\n\u001b[1;32m    148\u001b[0m     \u001b[0mfiltered_tb\u001b[0m \u001b[0;34m=\u001b[0m \u001b[0;32mNone\u001b[0m\u001b[0;34m\u001b[0m\u001b[0;34m\u001b[0m\u001b[0m\n\u001b[1;32m    149\u001b[0m     \u001b[0;32mtry\u001b[0m\u001b[0;34m:\u001b[0m\u001b[0;34m\u001b[0m\u001b[0;34m\u001b[0m\u001b[0m\n\u001b[0;32m--> 150\u001b[0;31m       \u001b[0;32mreturn\u001b[0m \u001b[0mfn\u001b[0m\u001b[0;34m(\u001b[0m\u001b[0;34m*\u001b[0m\u001b[0margs\u001b[0m\u001b[0;34m,\u001b[0m \u001b[0;34m**\u001b[0m\u001b[0mkwargs\u001b[0m\u001b[0;34m)\u001b[0m\u001b[0;34m\u001b[0m\u001b[0;34m\u001b[0m\u001b[0m\n\u001b[0m\u001b[1;32m    151\u001b[0m     \u001b[0;32mexcept\u001b[0m \u001b[0mException\u001b[0m \u001b[0;32mas\u001b[0m \u001b[0me\u001b[0m\u001b[0;34m:\u001b[0m\u001b[0;34m\u001b[0m\u001b[0;34m\u001b[0m\u001b[0m\n\u001b[1;32m    152\u001b[0m       \u001b[0mfiltered_tb\u001b[0m \u001b[0;34m=\u001b[0m \u001b[0m_process_traceback_frames\u001b[0m\u001b[0;34m(\u001b[0m\u001b[0me\u001b[0m\u001b[0;34m.\u001b[0m\u001b[0m__traceback__\u001b[0m\u001b[0;34m)\u001b[0m\u001b[0;34m\u001b[0m\u001b[0;34m\u001b[0m\u001b[0m\n",
            "\u001b[0;32m/usr/local/lib/python3.10/dist-packages/tensorflow/python/eager/polymorphic_function/polymorphic_function.py\u001b[0m in \u001b[0;36m__call__\u001b[0;34m(self, *args, **kwds)\u001b[0m\n\u001b[1;32m    829\u001b[0m \u001b[0;34m\u001b[0m\u001b[0m\n\u001b[1;32m    830\u001b[0m       \u001b[0;32mwith\u001b[0m \u001b[0mOptionalXlaContext\u001b[0m\u001b[0;34m(\u001b[0m\u001b[0mself\u001b[0m\u001b[0;34m.\u001b[0m\u001b[0m_jit_compile\u001b[0m\u001b[0;34m)\u001b[0m\u001b[0;34m:\u001b[0m\u001b[0;34m\u001b[0m\u001b[0;34m\u001b[0m\u001b[0m\n\u001b[0;32m--> 831\u001b[0;31m         \u001b[0mresult\u001b[0m \u001b[0;34m=\u001b[0m \u001b[0mself\u001b[0m\u001b[0;34m.\u001b[0m\u001b[0m_call\u001b[0m\u001b[0;34m(\u001b[0m\u001b[0;34m*\u001b[0m\u001b[0margs\u001b[0m\u001b[0;34m,\u001b[0m \u001b[0;34m**\u001b[0m\u001b[0mkwds\u001b[0m\u001b[0;34m)\u001b[0m\u001b[0;34m\u001b[0m\u001b[0;34m\u001b[0m\u001b[0m\n\u001b[0m\u001b[1;32m    832\u001b[0m \u001b[0;34m\u001b[0m\u001b[0m\n\u001b[1;32m    833\u001b[0m       \u001b[0mnew_tracing_count\u001b[0m \u001b[0;34m=\u001b[0m \u001b[0mself\u001b[0m\u001b[0;34m.\u001b[0m\u001b[0mexperimental_get_tracing_count\u001b[0m\u001b[0;34m(\u001b[0m\u001b[0;34m)\u001b[0m\u001b[0;34m\u001b[0m\u001b[0;34m\u001b[0m\u001b[0m\n",
            "\u001b[0;32m/usr/local/lib/python3.10/dist-packages/tensorflow/python/eager/polymorphic_function/polymorphic_function.py\u001b[0m in \u001b[0;36m_call\u001b[0;34m(self, *args, **kwds)\u001b[0m\n\u001b[1;32m    865\u001b[0m       \u001b[0;31m# In this case we have created variables on the first call, so we run the\u001b[0m\u001b[0;34m\u001b[0m\u001b[0;34m\u001b[0m\u001b[0m\n\u001b[1;32m    866\u001b[0m       \u001b[0;31m# defunned version which is guaranteed to never create variables.\u001b[0m\u001b[0;34m\u001b[0m\u001b[0;34m\u001b[0m\u001b[0m\n\u001b[0;32m--> 867\u001b[0;31m       return tracing_compilation.call_function(\n\u001b[0m\u001b[1;32m    868\u001b[0m           \u001b[0margs\u001b[0m\u001b[0;34m,\u001b[0m \u001b[0mkwds\u001b[0m\u001b[0;34m,\u001b[0m \u001b[0mself\u001b[0m\u001b[0;34m.\u001b[0m\u001b[0m_no_variable_creation_config\u001b[0m\u001b[0;34m\u001b[0m\u001b[0;34m\u001b[0m\u001b[0m\n\u001b[1;32m    869\u001b[0m       )\n",
            "\u001b[0;32m/usr/local/lib/python3.10/dist-packages/tensorflow/python/eager/polymorphic_function/tracing_compilation.py\u001b[0m in \u001b[0;36mcall_function\u001b[0;34m(args, kwargs, tracing_options)\u001b[0m\n\u001b[1;32m    137\u001b[0m   \u001b[0mbound_args\u001b[0m \u001b[0;34m=\u001b[0m \u001b[0mfunction\u001b[0m\u001b[0;34m.\u001b[0m\u001b[0mfunction_type\u001b[0m\u001b[0;34m.\u001b[0m\u001b[0mbind\u001b[0m\u001b[0;34m(\u001b[0m\u001b[0;34m*\u001b[0m\u001b[0margs\u001b[0m\u001b[0;34m,\u001b[0m \u001b[0;34m**\u001b[0m\u001b[0mkwargs\u001b[0m\u001b[0;34m)\u001b[0m\u001b[0;34m\u001b[0m\u001b[0;34m\u001b[0m\u001b[0m\n\u001b[1;32m    138\u001b[0m   \u001b[0mflat_inputs\u001b[0m \u001b[0;34m=\u001b[0m \u001b[0mfunction\u001b[0m\u001b[0;34m.\u001b[0m\u001b[0mfunction_type\u001b[0m\u001b[0;34m.\u001b[0m\u001b[0munpack_inputs\u001b[0m\u001b[0;34m(\u001b[0m\u001b[0mbound_args\u001b[0m\u001b[0;34m)\u001b[0m\u001b[0;34m\u001b[0m\u001b[0;34m\u001b[0m\u001b[0m\n\u001b[0;32m--> 139\u001b[0;31m   return function._call_flat(  # pylint: disable=protected-access\n\u001b[0m\u001b[1;32m    140\u001b[0m       \u001b[0mflat_inputs\u001b[0m\u001b[0;34m,\u001b[0m \u001b[0mcaptured_inputs\u001b[0m\u001b[0;34m=\u001b[0m\u001b[0mfunction\u001b[0m\u001b[0;34m.\u001b[0m\u001b[0mcaptured_inputs\u001b[0m\u001b[0;34m\u001b[0m\u001b[0;34m\u001b[0m\u001b[0m\n\u001b[1;32m    141\u001b[0m   )\n",
            "\u001b[0;32m/usr/local/lib/python3.10/dist-packages/tensorflow/python/eager/polymorphic_function/concrete_function.py\u001b[0m in \u001b[0;36m_call_flat\u001b[0;34m(self, tensor_inputs, captured_inputs)\u001b[0m\n\u001b[1;32m   1262\u001b[0m         and executing_eagerly):\n\u001b[1;32m   1263\u001b[0m       \u001b[0;31m# No tape is watching; skip to running the function.\u001b[0m\u001b[0;34m\u001b[0m\u001b[0;34m\u001b[0m\u001b[0m\n\u001b[0;32m-> 1264\u001b[0;31m       \u001b[0;32mreturn\u001b[0m \u001b[0mself\u001b[0m\u001b[0;34m.\u001b[0m\u001b[0m_inference_function\u001b[0m\u001b[0;34m.\u001b[0m\u001b[0mflat_call\u001b[0m\u001b[0;34m(\u001b[0m\u001b[0margs\u001b[0m\u001b[0;34m)\u001b[0m\u001b[0;34m\u001b[0m\u001b[0;34m\u001b[0m\u001b[0m\n\u001b[0m\u001b[1;32m   1265\u001b[0m     forward_backward = self._select_forward_and_backward_functions(\n\u001b[1;32m   1266\u001b[0m         \u001b[0margs\u001b[0m\u001b[0;34m,\u001b[0m\u001b[0;34m\u001b[0m\u001b[0;34m\u001b[0m\u001b[0m\n",
            "\u001b[0;32m/usr/local/lib/python3.10/dist-packages/tensorflow/python/eager/polymorphic_function/atomic_function.py\u001b[0m in \u001b[0;36mflat_call\u001b[0;34m(self, args)\u001b[0m\n\u001b[1;32m    215\u001b[0m   \u001b[0;32mdef\u001b[0m \u001b[0mflat_call\u001b[0m\u001b[0;34m(\u001b[0m\u001b[0mself\u001b[0m\u001b[0;34m,\u001b[0m \u001b[0margs\u001b[0m\u001b[0;34m:\u001b[0m \u001b[0mSequence\u001b[0m\u001b[0;34m[\u001b[0m\u001b[0mcore\u001b[0m\u001b[0;34m.\u001b[0m\u001b[0mTensor\u001b[0m\u001b[0;34m]\u001b[0m\u001b[0;34m)\u001b[0m \u001b[0;34m->\u001b[0m \u001b[0mAny\u001b[0m\u001b[0;34m:\u001b[0m\u001b[0;34m\u001b[0m\u001b[0;34m\u001b[0m\u001b[0m\n\u001b[1;32m    216\u001b[0m     \u001b[0;34m\"\"\"Calls with tensor inputs and returns the structured output.\"\"\"\u001b[0m\u001b[0;34m\u001b[0m\u001b[0;34m\u001b[0m\u001b[0m\n\u001b[0;32m--> 217\u001b[0;31m     \u001b[0mflat_outputs\u001b[0m \u001b[0;34m=\u001b[0m \u001b[0mself\u001b[0m\u001b[0;34m(\u001b[0m\u001b[0;34m*\u001b[0m\u001b[0margs\u001b[0m\u001b[0;34m)\u001b[0m\u001b[0;34m\u001b[0m\u001b[0;34m\u001b[0m\u001b[0m\n\u001b[0m\u001b[1;32m    218\u001b[0m     \u001b[0;32mreturn\u001b[0m \u001b[0mself\u001b[0m\u001b[0;34m.\u001b[0m\u001b[0mfunction_type\u001b[0m\u001b[0;34m.\u001b[0m\u001b[0mpack_output\u001b[0m\u001b[0;34m(\u001b[0m\u001b[0mflat_outputs\u001b[0m\u001b[0;34m)\u001b[0m\u001b[0;34m\u001b[0m\u001b[0;34m\u001b[0m\u001b[0m\n\u001b[1;32m    219\u001b[0m \u001b[0;34m\u001b[0m\u001b[0m\n",
            "\u001b[0;32m/usr/local/lib/python3.10/dist-packages/tensorflow/python/eager/polymorphic_function/atomic_function.py\u001b[0m in \u001b[0;36m__call__\u001b[0;34m(self, *args)\u001b[0m\n\u001b[1;32m    250\u001b[0m         \u001b[0;32mwith\u001b[0m \u001b[0mrecord\u001b[0m\u001b[0;34m.\u001b[0m\u001b[0mstop_recording\u001b[0m\u001b[0;34m(\u001b[0m\u001b[0;34m)\u001b[0m\u001b[0;34m:\u001b[0m\u001b[0;34m\u001b[0m\u001b[0;34m\u001b[0m\u001b[0m\n\u001b[1;32m    251\u001b[0m           \u001b[0;32mif\u001b[0m \u001b[0mself\u001b[0m\u001b[0;34m.\u001b[0m\u001b[0m_bound_context\u001b[0m\u001b[0;34m.\u001b[0m\u001b[0mexecuting_eagerly\u001b[0m\u001b[0;34m(\u001b[0m\u001b[0;34m)\u001b[0m\u001b[0;34m:\u001b[0m\u001b[0;34m\u001b[0m\u001b[0;34m\u001b[0m\u001b[0m\n\u001b[0;32m--> 252\u001b[0;31m             outputs = self._bound_context.call_function(\n\u001b[0m\u001b[1;32m    253\u001b[0m                 \u001b[0mself\u001b[0m\u001b[0;34m.\u001b[0m\u001b[0mname\u001b[0m\u001b[0;34m,\u001b[0m\u001b[0;34m\u001b[0m\u001b[0;34m\u001b[0m\u001b[0m\n\u001b[1;32m    254\u001b[0m                 \u001b[0mlist\u001b[0m\u001b[0;34m(\u001b[0m\u001b[0margs\u001b[0m\u001b[0;34m)\u001b[0m\u001b[0;34m,\u001b[0m\u001b[0;34m\u001b[0m\u001b[0;34m\u001b[0m\u001b[0m\n",
            "\u001b[0;32m/usr/local/lib/python3.10/dist-packages/tensorflow/python/eager/context.py\u001b[0m in \u001b[0;36mcall_function\u001b[0;34m(self, name, tensor_inputs, num_outputs)\u001b[0m\n\u001b[1;32m   1477\u001b[0m     \u001b[0mcancellation_context\u001b[0m \u001b[0;34m=\u001b[0m \u001b[0mcancellation\u001b[0m\u001b[0;34m.\u001b[0m\u001b[0mcontext\u001b[0m\u001b[0;34m(\u001b[0m\u001b[0;34m)\u001b[0m\u001b[0;34m\u001b[0m\u001b[0;34m\u001b[0m\u001b[0m\n\u001b[1;32m   1478\u001b[0m     \u001b[0;32mif\u001b[0m \u001b[0mcancellation_context\u001b[0m \u001b[0;32mis\u001b[0m \u001b[0;32mNone\u001b[0m\u001b[0;34m:\u001b[0m\u001b[0;34m\u001b[0m\u001b[0;34m\u001b[0m\u001b[0m\n\u001b[0;32m-> 1479\u001b[0;31m       outputs = execute.execute(\n\u001b[0m\u001b[1;32m   1480\u001b[0m           \u001b[0mname\u001b[0m\u001b[0;34m.\u001b[0m\u001b[0mdecode\u001b[0m\u001b[0;34m(\u001b[0m\u001b[0;34m\"utf-8\"\u001b[0m\u001b[0;34m)\u001b[0m\u001b[0;34m,\u001b[0m\u001b[0;34m\u001b[0m\u001b[0;34m\u001b[0m\u001b[0m\n\u001b[1;32m   1481\u001b[0m           \u001b[0mnum_outputs\u001b[0m\u001b[0;34m=\u001b[0m\u001b[0mnum_outputs\u001b[0m\u001b[0;34m,\u001b[0m\u001b[0;34m\u001b[0m\u001b[0;34m\u001b[0m\u001b[0m\n",
            "\u001b[0;32m/usr/local/lib/python3.10/dist-packages/tensorflow/python/eager/execute.py\u001b[0m in \u001b[0;36mquick_execute\u001b[0;34m(op_name, num_outputs, inputs, attrs, ctx, name)\u001b[0m\n\u001b[1;32m     58\u001b[0m         \u001b[0;32mfor\u001b[0m \u001b[0mt\u001b[0m \u001b[0;32min\u001b[0m \u001b[0minputs\u001b[0m\u001b[0;34m\u001b[0m\u001b[0;34m\u001b[0m\u001b[0m\n\u001b[1;32m     59\u001b[0m     ]\n\u001b[0;32m---> 60\u001b[0;31m     tensors = pywrap_tfe.TFE_Py_Execute(ctx._handle, device_name, op_name,\n\u001b[0m\u001b[1;32m     61\u001b[0m                                         inputs, attrs, num_outputs)\n\u001b[1;32m     62\u001b[0m   \u001b[0;32mexcept\u001b[0m \u001b[0mcore\u001b[0m\u001b[0;34m.\u001b[0m\u001b[0m_NotOkStatusException\u001b[0m \u001b[0;32mas\u001b[0m \u001b[0me\u001b[0m\u001b[0;34m:\u001b[0m\u001b[0;34m\u001b[0m\u001b[0;34m\u001b[0m\u001b[0m\n",
            "\u001b[0;31mKeyboardInterrupt\u001b[0m: "
          ]
        }
      ],
      "source": [
        "# Defina los hiperparámetros\n",
        "batch_size = 32\n",
        "epochs = 30\n",
        "\n",
        "### *No* modifique las siguientes líneas ###\n",
        "\n",
        "# Necesitamos compilar nuestro modelo\n",
        "model.compile(loss='categorical_crossentropy',\n",
        "              optimizer='Adadelta',\n",
        "              metrics=['accuracy'])\n",
        "\n",
        "# Entrenar\n",
        "logs = model.fit(x_train, y_train,\n",
        "          batch_size=batch_size,\n",
        "          epochs=epochs,\n",
        "          verbose=2,\n",
        "          validation_split = 0.1,)\n",
        "\n",
        "# Graficar losses y el accuracy\n",
        "fig, ax = plt.subplots(1,1)\n",
        "\n",
        "pd.DataFrame(logs.history).plot(ax=ax)\n",
        "ax.grid(linestyle='dotted')\n",
        "ax.legend()\n",
        "fig.canvas.draw()\n",
        "\n",
        "\n",
        "# Evaluar el rendimiento\n",
        "print('='*80)\n",
        "print('Assesing Test dataset...')\n",
        "print('='*80)\n",
        "\n",
        "score = model.evaluate(x_test, y_test, verbose=0)\n",
        "print('Test loss:', score[0])\n",
        "print('Test accuracy:', score[1])"
      ]
    },
    {
      "cell_type": "markdown",
      "metadata": {
        "collapsed": true,
        "id": "jmw21JqbktIS"
      },
      "source": [
        "# CIFAR\n",
        "\n",
        "La siguiente explicación de Cifar 10 proviene de [official cifar page](https://www.cs.toronto.edu/~kriz/cifar.html):\n",
        "\n",
        "CIFAR-10 y CIFAR-100 son subconjuntos etiquetados del dataset compuesto por <a href=\"http://people.csail.mit.edu/torralba/tinyimages/\">80 millones de imágenes pequeñas</a>. Fueron recolectados por Alex Krizhevsky, Vinod Nair y Geoffrey Hinton.\n",
        "\n",
        "\n",
        "## CIFAR10 Dataset\n",
        "\n",
        "El dataset CIFAR-10 consta de 60000 imágenes en color de $32 \\times 32$, compuesta por 10 clases, con 6000 imágenes por clase. Hay 50000 imágenes de entrenamiento y 10000 imágenes de prueba.\n",
        "\n",
        "El dataset se divide en cinco batches de entrenamiento y un batch de prueba, cada uno con 10000 imágenes. El batch de prueba contiene exactamente 1000 imágenes seleccionadas al azar de cada clase. Los batches de entrenamiento contienen el resto de imágenes en orden aleatorio, pero algunos batches de entrenamiento pueden contener más imágenes de una clase que de otra. Entre ellos, los batches de entrenamiento contienen exactamente 5000 imágenes de cada clase.\n",
        "\n",
        "Aquí están las clases del dataset, así como 10 imágenes aleatorias de cada una:\n",
        "<table>\n",
        "    <tr>\n",
        "        <td class=\"cifar-class-name\">airplane</td>\n",
        "        <td><img src=\"https://www.cs.toronto.edu/~kriz/cifar-10-sample/airplane1.png\" class=\"cifar-sample\" /></td>\n",
        "        <td><img src=\"https://www.cs.toronto.edu/~kriz/cifar-10-sample/airplane2.png\" class=\"cifar-sample\" /></td>\n",
        "        <td><img src=\"https://www.cs.toronto.edu/~kriz/cifar-10-sample/airplane3.png\" class=\"cifar-sample\" /></td>\n",
        "        <td><img src=\"https://www.cs.toronto.edu/~kriz/cifar-10-sample/airplane4.png\" class=\"cifar-sample\" /></td>\n",
        "        <td><img src=\"https://www.cs.toronto.edu/~kriz/cifar-10-sample/airplane5.png\" class=\"cifar-sample\" /></td>\n",
        "        <td><img src=\"https://www.cs.toronto.edu/~kriz/cifar-10-sample/airplane6.png\" class=\"cifar-sample\" /></td>\n",
        "        <td><img src=\"https://www.cs.toronto.edu/~kriz/cifar-10-sample/airplane7.png\" class=\"cifar-sample\" /></td>\n",
        "        <td><img src=\"https://www.cs.toronto.edu/~kriz/cifar-10-sample/airplane8.png\" class=\"cifar-sample\" /></td>\n",
        "        <td><img src=\"https://www.cs.toronto.edu/~kriz/cifar-10-sample/airplane9.png\" class=\"cifar-sample\" /></td>\n",
        "        <td><img src=\"https://www.cs.toronto.edu/~kriz/cifar-10-sample/airplane10.png\" class=\"cifar-sample\" /></td>\n",
        "    </tr>\n",
        "    <tr>\n",
        "        <td class=\"cifar-class-name\">automobile</td>\n",
        "        <td><img src=\"https://www.cs.toronto.edu/~kriz/cifar-10-sample/automobile1.png\" class=\"cifar-sample\" /></td>\n",
        "        <td><img src=\"https://www.cs.toronto.edu/~kriz/cifar-10-sample/automobile2.png\" class=\"cifar-sample\" /></td>\n",
        "        <td><img src=\"https://www.cs.toronto.edu/~kriz/cifar-10-sample/automobile3.png\" class=\"cifar-sample\" /></td>\n",
        "        <td><img src=\"https://www.cs.toronto.edu/~kriz/cifar-10-sample/automobile4.png\" class=\"cifar-sample\" /></td>\n",
        "        <td><img src=\"https://www.cs.toronto.edu/~kriz/cifar-10-sample/automobile5.png\" class=\"cifar-sample\" /></td>\n",
        "        <td><img src=\"https://www.cs.toronto.edu/~kriz/cifar-10-sample/automobile6.png\" class=\"cifar-sample\" /></td>\n",
        "        <td><img src=\"https://www.cs.toronto.edu/~kriz/cifar-10-sample/automobile7.png\" class=\"cifar-sample\" /></td>\n",
        "        <td><img src=\"https://www.cs.toronto.edu/~kriz/cifar-10-sample/automobile8.png\" class=\"cifar-sample\" /></td>\n",
        "        <td><img src=\"https://www.cs.toronto.edu/~kriz/cifar-10-sample/automobile9.png\" class=\"cifar-sample\" /></td>\n",
        "        <td><img src=\"https://www.cs.toronto.edu/~kriz/cifar-10-sample/automobile10.png\" class=\"cifar-sample\" /></td>\n",
        "    </tr>\n",
        "    <tr>\n",
        "        <td class=\"cifar-class-name\">bird</td>\n",
        "        <td><img src=\"https://www.cs.toronto.edu/~kriz/cifar-10-sample/bird1.png\" class=\"cifar-sample\" /></td>\n",
        "        <td><img src=\"https://www.cs.toronto.edu/~kriz/cifar-10-sample/bird2.png\" class=\"cifar-sample\" /></td>\n",
        "        <td><img src=\"https://www.cs.toronto.edu/~kriz/cifar-10-sample/bird3.png\" class=\"cifar-sample\" /></td>\n",
        "        <td><img src=\"https://www.cs.toronto.edu/~kriz/cifar-10-sample/bird4.png\" class=\"cifar-sample\" /></td>\n",
        "        <td><img src=\"https://www.cs.toronto.edu/~kriz/cifar-10-sample/bird5.png\" class=\"cifar-sample\" /></td>\n",
        "        <td><img src=\"https://www.cs.toronto.edu/~kriz/cifar-10-sample/bird6.png\" class=\"cifar-sample\" /></td>\n",
        "        <td><img src=\"https://www.cs.toronto.edu/~kriz/cifar-10-sample/bird7.png\" class=\"cifar-sample\" /></td>\n",
        "        <td><img src=\"https://www.cs.toronto.edu/~kriz/cifar-10-sample/bird8.png\" class=\"cifar-sample\" /></td>\n",
        "        <td><img src=\"https://www.cs.toronto.edu/~kriz/cifar-10-sample/bird9.png\" class=\"cifar-sample\" /></td>\n",
        "        <td><img src=\"https://www.cs.toronto.edu/~kriz/cifar-10-sample/bird10.png\" class=\"cifar-sample\" /></td>\n",
        "    </tr>\n",
        "    <tr>\n",
        "        <td class=\"cifar-class-name\">cat</td>\n",
        "        <td><img src=\"https://www.cs.toronto.edu/~kriz/cifar-10-sample/cat1.png\" class=\"cifar-sample\" /></td>\n",
        "        <td><img src=\"https://www.cs.toronto.edu/~kriz/cifar-10-sample/cat2.png\" class=\"cifar-sample\" /></td>\n",
        "        <td><img src=\"https://www.cs.toronto.edu/~kriz/cifar-10-sample/cat3.png\" class=\"cifar-sample\" /></td>\n",
        "        <td><img src=\"https://www.cs.toronto.edu/~kriz/cifar-10-sample/cat4.png\" class=\"cifar-sample\" /></td>\n",
        "        <td><img src=\"https://www.cs.toronto.edu/~kriz/cifar-10-sample/cat5.png\" class=\"cifar-sample\" /></td>\n",
        "        <td><img src=\"https://www.cs.toronto.edu/~kriz/cifar-10-sample/cat6.png\" class=\"cifar-sample\" /></td>\n",
        "        <td><img src=\"https://www.cs.toronto.edu/~kriz/cifar-10-sample/cat7.png\" class=\"cifar-sample\" /></td>\n",
        "        <td><img src=\"https://www.cs.toronto.edu/~kriz/cifar-10-sample/cat8.png\" class=\"cifar-sample\" /></td>\n",
        "        <td><img src=\"https://www.cs.toronto.edu/~kriz/cifar-10-sample/cat9.png\" class=\"cifar-sample\" /></td>\n",
        "        <td><img src=\"https://www.cs.toronto.edu/~kriz/cifar-10-sample/cat10.png\" class=\"cifar-sample\" /></td>\n",
        "    </tr>\n",
        "    <tr>\n",
        "        <td class=\"cifar-class-name\">deer</td>\n",
        "        <td><img src=\"https://www.cs.toronto.edu/~kriz/cifar-10-sample/deer1.png\" class=\"cifar-sample\" /></td>\n",
        "        <td><img src=\"https://www.cs.toronto.edu/~kriz/cifar-10-sample/deer2.png\" class=\"cifar-sample\" /></td>\n",
        "        <td><img src=\"https://www.cs.toronto.edu/~kriz/cifar-10-sample/deer3.png\" class=\"cifar-sample\" /></td>\n",
        "        <td><img src=\"https://www.cs.toronto.edu/~kriz/cifar-10-sample/deer4.png\" class=\"cifar-sample\" /></td>\n",
        "        <td><img src=\"https://www.cs.toronto.edu/~kriz/cifar-10-sample/deer5.png\" class=\"cifar-sample\" /></td>\n",
        "        <td><img src=\"https://www.cs.toronto.edu/~kriz/cifar-10-sample/deer6.png\" class=\"cifar-sample\" /></td>\n",
        "        <td><img src=\"https://www.cs.toronto.edu/~kriz/cifar-10-sample/deer7.png\" class=\"cifar-sample\" /></td>\n",
        "        <td><img src=\"https://www.cs.toronto.edu/~kriz/cifar-10-sample/deer8.png\" class=\"cifar-sample\" /></td>\n",
        "        <td><img src=\"https://www.cs.toronto.edu/~kriz/cifar-10-sample/deer9.png\" class=\"cifar-sample\" /></td>\n",
        "        <td><img src=\"https://www.cs.toronto.edu/~kriz/cifar-10-sample/deer10.png\" class=\"cifar-sample\" /></td>\n",
        "    </tr>\n",
        "    <tr>\n",
        "        <td class=\"cifar-class-name\">dog</td>\n",
        "        <td><img src=\"https://www.cs.toronto.edu/~kriz/cifar-10-sample/dog1.png\" class=\"cifar-sample\" /></td>\n",
        "        <td><img src=\"https://www.cs.toronto.edu/~kriz/cifar-10-sample/dog2.png\" class=\"cifar-sample\" /></td>\n",
        "        <td><img src=\"https://www.cs.toronto.edu/~kriz/cifar-10-sample/dog3.png\" class=\"cifar-sample\" /></td>\n",
        "        <td><img src=\"https://www.cs.toronto.edu/~kriz/cifar-10-sample/dog4.png\" class=\"cifar-sample\" /></td>\n",
        "        <td><img src=\"https://www.cs.toronto.edu/~kriz/cifar-10-sample/dog5.png\" class=\"cifar-sample\" /></td>\n",
        "        <td><img src=\"https://www.cs.toronto.edu/~kriz/cifar-10-sample/dog6.png\" class=\"cifar-sample\" /></td>\n",
        "        <td><img src=\"https://www.cs.toronto.edu/~kriz/cifar-10-sample/dog7.png\" class=\"cifar-sample\" /></td>\n",
        "        <td><img src=\"https://www.cs.toronto.edu/~kriz/cifar-10-sample/dog8.png\" class=\"cifar-sample\" /></td>\n",
        "        <td><img src=\"https://www.cs.toronto.edu/~kriz/cifar-10-sample/dog9.png\" class=\"cifar-sample\" /></td>\n",
        "        <td><img src=\"https://www.cs.toronto.edu/~kriz/cifar-10-sample/dog10.png\" class=\"cifar-sample\" /></td>\n",
        "    </tr>\n",
        "    <tr>\n",
        "        <td class=\"cifar-class-name\">frog</td>\n",
        "        <td><img src=\"https://www.cs.toronto.edu/~kriz/cifar-10-sample/frog1.png\" class=\"cifar-sample\" /></td>\n",
        "        <td><img src=\"https://www.cs.toronto.edu/~kriz/cifar-10-sample/frog2.png\" class=\"cifar-sample\" /></td>\n",
        "        <td><img src=\"https://www.cs.toronto.edu/~kriz/cifar-10-sample/frog3.png\" class=\"cifar-sample\" /></td>\n",
        "        <td><img src=\"https://www.cs.toronto.edu/~kriz/cifar-10-sample/frog4.png\" class=\"cifar-sample\" /></td>\n",
        "        <td><img src=\"https://www.cs.toronto.edu/~kriz/cifar-10-sample/frog5.png\" class=\"cifar-sample\" /></td>\n",
        "        <td><img src=\"https://www.cs.toronto.edu/~kriz/cifar-10-sample/frog6.png\" class=\"cifar-sample\" /></td>\n",
        "        <td><img src=\"https://www.cs.toronto.edu/~kriz/cifar-10-sample/frog7.png\" class=\"cifar-sample\" /></td>\n",
        "        <td><img src=\"https://www.cs.toronto.edu/~kriz/cifar-10-sample/frog8.png\" class=\"cifar-sample\" /></td>\n",
        "        <td><img src=\"https://www.cs.toronto.edu/~kriz/cifar-10-sample/frog9.png\" class=\"cifar-sample\" /></td>\n",
        "        <td><img src=\"https://www.cs.toronto.edu/~kriz/cifar-10-sample/frog10.png\" class=\"cifar-sample\" /></td>\n",
        "    </tr>\n",
        "    <tr>\n",
        "        <td class=\"cifar-class-name\">horse</td>\n",
        "        <td><img src=\"https://www.cs.toronto.edu/~kriz/cifar-10-sample/horse1.png\" class=\"cifar-sample\" /></td>\n",
        "        <td><img src=\"https://www.cs.toronto.edu/~kriz/cifar-10-sample/horse2.png\" class=\"cifar-sample\" /></td>\n",
        "        <td><img src=\"https://www.cs.toronto.edu/~kriz/cifar-10-sample/horse3.png\" class=\"cifar-sample\" /></td>\n",
        "        <td><img src=\"https://www.cs.toronto.edu/~kriz/cifar-10-sample/horse4.png\" class=\"cifar-sample\" /></td>\n",
        "        <td><img src=\"https://www.cs.toronto.edu/~kriz/cifar-10-sample/horse5.png\" class=\"cifar-sample\" /></td>\n",
        "        <td><img src=\"https://www.cs.toronto.edu/~kriz/cifar-10-sample/horse6.png\" class=\"cifar-sample\" /></td>\n",
        "        <td><img src=\"https://www.cs.toronto.edu/~kriz/cifar-10-sample/horse7.png\" class=\"cifar-sample\" /></td>\n",
        "        <td><img src=\"https://www.cs.toronto.edu/~kriz/cifar-10-sample/horse8.png\" class=\"cifar-sample\" /></td>\n",
        "        <td><img src=\"https://www.cs.toronto.edu/~kriz/cifar-10-sample/horse9.png\" class=\"cifar-sample\" /></td>\n",
        "        <td><img src=\"https://www.cs.toronto.edu/~kriz/cifar-10-sample/horse10.png\" class=\"cifar-sample\" /></td>\n",
        "    </tr>\n",
        "    <tr>\n",
        "        <td class=\"cifar-class-name\">ship</td>\n",
        "        <td><img src=\"https://www.cs.toronto.edu/~kriz/cifar-10-sample/ship1.png\" class=\"cifar-sample\" /></td>\n",
        "        <td><img src=\"https://www.cs.toronto.edu/~kriz/cifar-10-sample/ship2.png\" class=\"cifar-sample\" /></td>\n",
        "        <td><img src=\"https://www.cs.toronto.edu/~kriz/cifar-10-sample/ship3.png\" class=\"cifar-sample\" /></td>\n",
        "        <td><img src=\"https://www.cs.toronto.edu/~kriz/cifar-10-sample/ship4.png\" class=\"cifar-sample\" /></td>\n",
        "        <td><img src=\"https://www.cs.toronto.edu/~kriz/cifar-10-sample/ship5.png\" class=\"cifar-sample\" /></td>\n",
        "        <td><img src=\"https://www.cs.toronto.edu/~kriz/cifar-10-sample/ship6.png\" class=\"cifar-sample\" /></td>\n",
        "        <td><img src=\"https://www.cs.toronto.edu/~kriz/cifar-10-sample/ship7.png\" class=\"cifar-sample\" /></td>\n",
        "        <td><img src=\"https://www.cs.toronto.edu/~kriz/cifar-10-sample/ship8.png\" class=\"cifar-sample\" /></td>\n",
        "        <td><img src=\"https://www.cs.toronto.edu/~kriz/cifar-10-sample/ship9.png\" class=\"cifar-sample\" /></td>\n",
        "        <td><img src=\"https://www.cs.toronto.edu/~kriz/cifar-10-sample/ship10.png\" class=\"cifar-sample\" /></td>\n",
        "    </tr>\n",
        "    <tr>\n",
        "        <td class=\"cifar-class-name\">truck</td>\n",
        "        <td><img src=\"https://www.cs.toronto.edu/~kriz/cifar-10-sample/truck1.png\" class=\"cifar-sample\" /></td>\n",
        "        <td><img src=\"https://www.cs.toronto.edu/~kriz/cifar-10-sample/truck2.png\" class=\"cifar-sample\" /></td>\n",
        "        <td><img src=\"https://www.cs.toronto.edu/~kriz/cifar-10-sample/truck3.png\" class=\"cifar-sample\" /></td>\n",
        "        <td><img src=\"https://www.cs.toronto.edu/~kriz/cifar-10-sample/truck4.png\" class=\"cifar-sample\" /></td>\n",
        "        <td><img src=\"https://www.cs.toronto.edu/~kriz/cifar-10-sample/truck5.png\" class=\"cifar-sample\" /></td>\n",
        "        <td><img src=\"https://www.cs.toronto.edu/~kriz/cifar-10-sample/truck6.png\" class=\"cifar-sample\" /></td>\n",
        "        <td><img src=\"https://www.cs.toronto.edu/~kriz/cifar-10-sample/truck7.png\" class=\"cifar-sample\" /></td>\n",
        "        <td><img src=\"https://www.cs.toronto.edu/~kriz/cifar-10-sample/truck8.png\" class=\"cifar-sample\" /></td>\n",
        "        <td><img src=\"https://www.cs.toronto.edu/~kriz/cifar-10-sample/truck9.png\" class=\"cifar-sample\" /></td>\n",
        "        <td><img src=\"https://www.cs.toronto.edu/~kriz/cifar-10-sample/truck10.png\" class=\"cifar-sample\" /></td>\n",
        "    </tr>\n",
        "</table>\n",
        "\n",
        "Las clases son completamente excluyentes. No hay solapamiento entre los automóviles y los camiones. \"Automóvil\" incluye sedans, todoterrenos y cosas de ese tipo. \"Camión\" incluye sólo los camiones grandes. Tampoco incluye las camionetas."
      ]
    },
    {
      "cell_type": "markdown",
      "metadata": {
        "id": "PGzKEXhTktIS"
      },
      "source": [
        "En el siguiente ejemplo cargaremos los datos de CIFAR10.\n",
        "\n",
        "* **input** $\\rightarrow$ 60000 muestras de 3072 vectores dimensionales.\n",
        "    * Aquí se presentan como matrices de $32 \\times 32 \\times 3$  $\\rightarrow$ Imágenes de color\n",
        "* **target** $\\rightarrow$ 60000 escalares que indican una clase de 0 a 9\n",
        "\n",
        "<div class=\"alert alert-info\">\n",
        "  <strong>En el siguiente código:</strong>\n",
        "<ul>\n",
        "  <li>Cargaremos el dataset CIFAR10</li>\n",
        "  <li>Graficaremos la 5ª muestra del conjunto de entrenamiento</li>\n",
        "</ul>\n",
        "</div>"
      ]
    },
    {
      "cell_type": "code",
      "execution_count": 52,
      "metadata": {
        "id": "UcsiXsiEktIS",
        "colab": {
          "base_uri": "https://localhost:8080/",
          "height": 750
        },
        "outputId": "d9487c96-e1e0-4a3e-bc06-f18033014e73"
      },
      "outputs": [
        {
          "output_type": "stream",
          "name": "stdout",
          "text": [
            "x_train shape: (50000, 32, 32, 3)\n",
            "50000 train samples\n",
            "10000 test samples\n",
            "Shape of x_train (50000, 32, 32, 3)\n",
            "Shape of y_train (50000, 1)\n",
            "Shape of x_test (50000, 32, 32, 3)\n",
            "Shape of y_test (50000, 1)\n"
          ]
        },
        {
          "output_type": "display_data",
          "data": {
            "text/plain": [
              "<Figure size 700x700 with 1 Axes>"
            ],
            "image/png": "[encoded data removed]"
          },
          "metadata": {}
        }
      ],
      "source": [
        "from keras.datasets import cifar10\n",
        "\n",
        "# Los datos divididos entre los conjuntos de entrenamiento y prueba\n",
        "(x_train, y_train), (x_test, y_test) = cifar10.load_data()\n",
        "\n",
        "print('x_train shape:', x_train.shape)\n",
        "print(x_train.shape[0], 'train samples')\n",
        "print(x_test.shape[0], 'test samples')\n",
        "\n",
        "target_2_class = {0:'airplane',\n",
        "                  1:'automobile',\n",
        "                  2:'bird',\n",
        "                  3:'cat',\n",
        "                  4:'deer',\n",
        "                  5:'dog',\n",
        "                  6:'frog',\n",
        "                  7:'horse',\n",
        "                  8:'ship',\n",
        "                  9:'truck'}\n",
        "\n",
        "# Código para graficar la 5ª muestra de entrenamiento.\n",
        "fig,ax1 = plt.subplots(1,1, figsize=(7,7))\n",
        "ax1.imshow(x_train[5])\n",
        "target = y_train[5][0]\n",
        "title = 'Target is {} - Class {}'.format(target_2_class[target],target )\n",
        "ax1.set_title(title)\n",
        "ax1.grid(which='Major')\n",
        "ax1.xaxis.set_major_locator(MaxNLocator(32))\n",
        "ax1.yaxis.set_major_locator(MaxNLocator(32))\n",
        "fig.canvas.draw()\n",
        "time.sleep(0.1)\n",
        "\n",
        "print('Shape of x_train {}'.format(x_train.shape))\n",
        "print('Shape of y_train {}'.format(y_train.shape))\n",
        "print('Shape of x_test {}'.format(x_train.shape))\n",
        "print('Shape of y_test {}'.format(y_train.shape))"
      ]
    },
    {
      "cell_type": "markdown",
      "metadata": {
        "id": "PQbX4D8SktIT"
      },
      "source": [
        "### Parte VIII: Codificación One-Hot para los Labels\n",
        "\n",
        "<div class=\"alert alert-success\">\n",
        "<strong>Tarea:</strong> Utilice la función `one_hot()` que creó anteriormente para codificar:\n",
        "<ul>\n",
        "  <li>`y_test`</li>\n",
        "  <li>`y_train`</li>\n",
        "</ul>\n",
        "</div>"
      ]
    },
    {
      "cell_type": "code",
      "execution_count": 54,
      "metadata": {
        "id": "lIv20dNDktIT",
        "colab": {
          "base_uri": "https://localhost:8080/"
        },
        "outputId": "d6c2a1e0-a6d4-4f6d-c6d4-a889bad4dd61"
      },
      "outputs": [
        {
          "output_type": "stream",
          "name": "stdout",
          "text": [
            "Shape of x_train (50000, 32, 32, 3)\n",
            "Shape of y_train (50000, 10)\n",
            "Shape of x_test (50000, 32, 32, 3)\n",
            "Shape of y_test (50000, 10)\n"
          ]
        }
      ],
      "source": [
        "y_train = one_hot(y_train.reshape(-1), 10)\n",
        "y_test = one_hot(y_test.reshape(-1), 10)\n",
        "\n",
        "\n",
        "### *No* modifique las siguientes líneas ###\n",
        "# Imprima los tamaños de los datos (variables)\n",
        "print('Shape of x_train {}'.format(x_train.shape))\n",
        "print('Shape of y_train {}'.format(y_train.shape))\n",
        "print('Shape of x_test {}'.format(x_train.shape))\n",
        "print('Shape of y_test {}'.format(y_train.shape))"
      ]
    },
    {
      "cell_type": "markdown",
      "metadata": {
        "id": "faVclyzPktIU"
      },
      "source": [
        "### Parte IX: Normalizar las imágenes\n",
        "\n",
        "<div class=\"alert alert-success\">\n",
        "<strong>Tarea:</strong> Utilice la función `normalize_images()` que creó anteriormente para normalizar las imágenes en:\n",
        "<ul>\n",
        "  <li>`x_test`</li>\n",
        "  <li>`x_train`</li>\n",
        "</ul>\n",
        "</div>"
      ]
    },
    {
      "cell_type": "code",
      "execution_count": 55,
      "metadata": {
        "id": "_2zM9zfjktIU"
      },
      "outputs": [],
      "source": [
        "x_train = normalize_images(x_train)\n",
        "x_test = normalize_images(x_test)"
      ]
    },
    {
      "cell_type": "markdown",
      "metadata": {
        "id": "FCoznG0xktIU"
      },
      "source": [
        "### Parte X: Cree su CNN para CIFAR10\n",
        "\n",
        "<div class=\"alert alert-success\">\n",
        "  <strong>Tarea:</strong> Cree un modelo de red neuronal para entrenar CIFAR usando lo que hemos aprendido hasta ahora.\n",
        "<ul>\n",
        "  <li>Cree una nueva red utilizando `net_1()` o `net_2()`</li>\n",
        "  <li>Mostrar un resumen de la red</li>.\n",
        "  <li>Compilar el modelo utilizando `Adadelta`, `Adagrad`, o `Adam` como su optimizador</li>\n",
        "</ul>\n",
        "Parte del código ya está rellenado, así que modifique lo que necesite.\n",
        "</div>"
      ]
    },
    {
      "cell_type": "code",
      "execution_count": 60,
      "metadata": {
        "id": "PJNDbpQaktIU",
        "colab": {
          "base_uri": "https://localhost:8080/"
        },
        "outputId": "9f089fbe-962f-4110-f570-37257aa868dc"
      },
      "outputs": [
        {
          "output_type": "stream",
          "name": "stdout",
          "text": [
            "Model: \"model_10\"\n",
            "_________________________________________________________________\n",
            " Layer (type)                Output Shape              Param #   \n",
            "=================================================================\n",
            " input_11 (InputLayer)       [(None, 32, 32, 3)]       0         \n",
            "                                                                 \n",
            " conv2d_20 (Conv2D)          (None, 32, 32, 32)        896       \n",
            "                                                                 \n",
            " conv2d_21 (Conv2D)          (None, 32, 32, 64)        18496     \n",
            "                                                                 \n",
            " max_pooling2d_7 (MaxPoolin  (None, 16, 16, 64)        0         \n",
            " g2D)                                                            \n",
            "                                                                 \n",
            " flatten_10 (Flatten)        (None, 16384)             0         \n",
            "                                                                 \n",
            " dense_20 (Dense)            (None, 128)               2097280   \n",
            "                                                                 \n",
            " dense_21 (Dense)            (None, 10)                1290      \n",
            "                                                                 \n",
            "=================================================================\n",
            "Total params: 2117962 (8.08 MB)\n",
            "Trainable params: 2117962 (8.08 MB)\n",
            "Non-trainable params: 0 (0.00 Byte)\n",
            "_________________________________________________________________\n"
          ]
        }
      ],
      "source": [
        "# Dimensionalidad de la muestra\n",
        "sample_shape = x_train[0].shape\n",
        "\n",
        "# Construcción de la red\n",
        "model = net_1(sample_shape, 10)\n",
        "model.summary()\n",
        "\n",
        "# Necesitamos compilar nuestro modelo de red neuronal\n",
        "model.compile(loss='categorical_crossentropy',\n",
        "              optimizer='Adagrad',\n",
        "              metrics=['accuracy'])"
      ]
    },
    {
      "cell_type": "markdown",
      "metadata": {
        "id": "AEmGaoTvktIU"
      },
      "source": [
        "### Parte XI: Entrene su modelo\n",
        "\n",
        "<div class=\"alert alert-success\">\n",
        "  <strong>Tarea:</strong> : Entrenar el modelo creado en la celda anterior en CIFAR10.\n",
        "  <ul>\n",
        "  <li>Entrene la red utilizando `epochs = 30`</li>\n",
        "  <li>Entrene la red utilizando un `batch_size = 128`</li>\n",
        "  <li>Utilice `validation_split = 0.2` cuando llame a `fit()`</li>\n",
        "  <li>Planifica las pérdidas y la precisión</li>\n",
        "  <li>Evaluar el rendimiento en el conjunto de pruebas</li>.\n",
        "</ul>\n",
        "Le recomendamos que no copie y pegue de las celdas anteriores, sino que reescriba el código usted mismo. Siempre puedes echar un vistazo a las celdas anteriores si no estás seguro de lo que debes hacer.\n",
        "</div>"
      ]
    },
    {
      "cell_type": "code",
      "execution_count": 61,
      "metadata": {
        "id": "3sR7lW2rktIV",
        "colab": {
          "base_uri": "https://localhost:8080/"
        },
        "outputId": "7ec15aff-7337-4391-c25c-1a2b0aa5f0ea"
      },
      "outputs": [
        {
          "output_type": "stream",
          "name": "stdout",
          "text": [
            "Epoch 1/30\n",
            "313/313 - 5s - loss: 2.2245 - accuracy: 0.1901 - val_loss: 2.1395 - val_accuracy: 0.2265 - 5s/epoch - 15ms/step\n",
            "Epoch 2/30\n",
            "313/313 - 3s - loss: 2.0640 - accuracy: 0.2691 - val_loss: 2.0006 - val_accuracy: 0.2941 - 3s/epoch - 10ms/step\n",
            "Epoch 3/30\n",
            "313/313 - 3s - loss: 1.9463 - accuracy: 0.3189 - val_loss: 1.9231 - val_accuracy: 0.3201 - 3s/epoch - 11ms/step\n",
            "Epoch 4/30\n",
            "313/313 - 3s - loss: 1.8839 - accuracy: 0.3423 - val_loss: 1.8975 - val_accuracy: 0.3240 - 3s/epoch - 10ms/step\n",
            "Epoch 5/30\n",
            "313/313 - 3s - loss: 1.8415 - accuracy: 0.3613 - val_loss: 1.8507 - val_accuracy: 0.3524 - 3s/epoch - 10ms/step\n",
            "Epoch 6/30\n",
            "313/313 - 3s - loss: 1.8068 - accuracy: 0.3744 - val_loss: 1.8091 - val_accuracy: 0.3732 - 3s/epoch - 10ms/step\n",
            "Epoch 7/30\n",
            "313/313 - 4s - loss: 1.7749 - accuracy: 0.3867 - val_loss: 1.7894 - val_accuracy: 0.3726 - 4s/epoch - 11ms/step\n",
            "Epoch 8/30\n",
            "313/313 - 3s - loss: 1.7419 - accuracy: 0.3970 - val_loss: 1.7653 - val_accuracy: 0.3880 - 3s/epoch - 10ms/step\n",
            "Epoch 9/30\n",
            "313/313 - 3s - loss: 1.7137 - accuracy: 0.4089 - val_loss: 1.7293 - val_accuracy: 0.3947 - 3s/epoch - 11ms/step\n",
            "Epoch 10/30\n",
            "313/313 - 3s - loss: 1.6848 - accuracy: 0.4160 - val_loss: 1.7258 - val_accuracy: 0.3978 - 3s/epoch - 10ms/step\n",
            "Epoch 11/30\n",
            "313/313 - 4s - loss: 1.6587 - accuracy: 0.4267 - val_loss: 1.6821 - val_accuracy: 0.4084 - 4s/epoch - 11ms/step\n",
            "Epoch 12/30\n",
            "313/313 - 3s - loss: 1.6347 - accuracy: 0.4356 - val_loss: 1.6888 - val_accuracy: 0.4047 - 3s/epoch - 11ms/step\n",
            "Epoch 13/30\n",
            "313/313 - 3s - loss: 1.6144 - accuracy: 0.4403 - val_loss: 1.6406 - val_accuracy: 0.4303 - 3s/epoch - 10ms/step\n",
            "Epoch 14/30\n",
            "313/313 - 3s - loss: 1.5938 - accuracy: 0.4481 - val_loss: 1.6150 - val_accuracy: 0.4381 - 3s/epoch - 10ms/step\n",
            "Epoch 15/30\n",
            "313/313 - 3s - loss: 1.5751 - accuracy: 0.4533 - val_loss: 1.5966 - val_accuracy: 0.4445 - 3s/epoch - 11ms/step\n",
            "Epoch 16/30\n",
            "313/313 - 3s - loss: 1.5573 - accuracy: 0.4599 - val_loss: 1.5913 - val_accuracy: 0.4487 - 3s/epoch - 11ms/step\n",
            "Epoch 17/30\n",
            "313/313 - 3s - loss: 1.5421 - accuracy: 0.4639 - val_loss: 1.5813 - val_accuracy: 0.4447 - 3s/epoch - 11ms/step\n",
            "Epoch 18/30\n",
            "313/313 - 3s - loss: 1.5266 - accuracy: 0.4683 - val_loss: 1.5511 - val_accuracy: 0.4578 - 3s/epoch - 10ms/step\n",
            "Epoch 19/30\n",
            "313/313 - 4s - loss: 1.5119 - accuracy: 0.4753 - val_loss: 1.5528 - val_accuracy: 0.4583 - 4s/epoch - 11ms/step\n",
            "Epoch 20/30\n",
            "313/313 - 3s - loss: 1.4995 - accuracy: 0.4776 - val_loss: 1.5306 - val_accuracy: 0.4586 - 3s/epoch - 11ms/step\n",
            "Epoch 21/30\n",
            "313/313 - 3s - loss: 1.4862 - accuracy: 0.4826 - val_loss: 1.5207 - val_accuracy: 0.4674 - 3s/epoch - 10ms/step\n",
            "Epoch 22/30\n",
            "313/313 - 3s - loss: 1.4730 - accuracy: 0.4863 - val_loss: 1.5200 - val_accuracy: 0.4615 - 3s/epoch - 11ms/step\n",
            "Epoch 23/30\n",
            "313/313 - 3s - loss: 1.4620 - accuracy: 0.4928 - val_loss: 1.4998 - val_accuracy: 0.4752 - 3s/epoch - 11ms/step\n",
            "Epoch 24/30\n",
            "313/313 - 4s - loss: 1.4506 - accuracy: 0.4956 - val_loss: 1.4972 - val_accuracy: 0.4753 - 4s/epoch - 13ms/step\n",
            "Epoch 25/30\n",
            "313/313 - 3s - loss: 1.4399 - accuracy: 0.4990 - val_loss: 1.4769 - val_accuracy: 0.4871 - 3s/epoch - 11ms/step\n",
            "Epoch 26/30\n",
            "313/313 - 3s - loss: 1.4301 - accuracy: 0.5033 - val_loss: 1.4735 - val_accuracy: 0.4859 - 3s/epoch - 10ms/step\n",
            "Epoch 27/30\n",
            "313/313 - 3s - loss: 1.4195 - accuracy: 0.5053 - val_loss: 1.4548 - val_accuracy: 0.4926 - 3s/epoch - 11ms/step\n",
            "Epoch 28/30\n",
            "313/313 - 3s - loss: 1.4107 - accuracy: 0.5085 - val_loss: 1.4480 - val_accuracy: 0.4969 - 3s/epoch - 11ms/step\n",
            "Epoch 29/30\n",
            "313/313 - 3s - loss: 1.4019 - accuracy: 0.5120 - val_loss: 1.4358 - val_accuracy: 0.5011 - 3s/epoch - 11ms/step\n",
            "Epoch 30/30\n",
            "313/313 - 3s - loss: 1.3929 - accuracy: 0.5157 - val_loss: 1.4432 - val_accuracy: 0.4915 - 3s/epoch - 10ms/step\n",
            "================================================================================\n",
            "Assesing Test dataset...\n",
            "================================================================================\n",
            "Test loss: 1.420528769493103\n",
            "Test accuracy: 0.49480000138282776\n"
          ]
        }
      ],
      "source": [
        "# Construya el código dentro de esta celda\n",
        "# Defina los hiperparámetros\n",
        "batch_size = 128\n",
        "epochs = 30\n",
        "\n",
        "### *No* modifique las siguientes líneas ###\n",
        "\n",
        "# No hay tasa de aprendizaje porque estamos usando los valores recomendados\n",
        "# para el optimizador Adadelta. Más información aquí:\n",
        "# https://keras.io/optimizers/\n",
        "\n",
        "\n",
        "# Entrenar\n",
        "logs = model.fit(x_train, y_train,\n",
        "                 batch_size=batch_size,\n",
        "                 epochs=epochs,\n",
        "                 verbose=2,\n",
        "                 validation_split=0.2)\n",
        "\n",
        "\n",
        "\n",
        "# Evaluar el rendimiento\n",
        "print('='*80)\n",
        "print('Assesing Test dataset...')\n",
        "print('='*80)\n",
        "\n",
        "score = model.evaluate(x_test, y_test, verbose=0)\n",
        "print('Test loss:', score[0])\n",
        "print('Test accuracy:', score[1])\n",
        "\n"
      ]
    },
    {
      "cell_type": "code",
      "source": [
        "# Graficar losses y el accuracy\n",
        "fig, ax = plt.subplots(1,1)\n",
        "\n",
        "pd.DataFrame(logs.history).plot(ax=ax)\n",
        "ax.grid(linestyle='dotted')\n",
        "ax.legend()\n",
        "fig.canvas.draw()"
      ],
      "metadata": {
        "colab": {
          "base_uri": "https://localhost:8080/",
          "height": 430
        },
        "id": "tVJlr2lgewzf",
        "outputId": "cd5c6df8-ce0d-46cb-c9ba-72df6608864e"
      },
      "execution_count": 62,
      "outputs": [
        {
          "output_type": "display_data",
          "data": {
            "text/plain": [
              "<Figure size 640x480 with 1 Axes>"
            ],
            "image/png": "[encoded data removed]"
          },
          "metadata": {}
        }
      ]
    },
    {
      "cell_type": "markdown",
      "metadata": {
        "id": "x8Lm7Ie0ktIV"
      },
      "source": [
        "### Temas de reflexión\n",
        "\n",
        "* ¿Qué modelo funciona mejor?\n",
        "* ¿Qué optimizador funciona mejor?\n",
        "* ¿Existe alguna evidencia de overfitting?\n",
        "* ¿Cómo podemos mejorar aún más el rendimiento?"
      ]
    },
    {
      "cell_type": "markdown",
      "source": [
        "#¿Qué modelo funciona mejor?\n",
        "\n",
        "En mi caso puedo decir que el modelo net_2 es ligeramente mejor debido a las diferencias de mejora tanto en loss como val_loss, en net_1 el loss tuvo una mejora de 1,9629 y el val_loss 1,8434 mientras que en el modelo net_2 hubo una variación del loss de 1,9791 y val_loss de 1,9213. Además, en los tiempos tambien es levemente mejor net_2 con un promedio de 6 segundos por época.\n",
        "\n",
        "#¿Qué optimizador funciona mejor?\n",
        "\n",
        "\n",
        "\n",
        "#¿Existe alguna evidencia de overfitting?\n",
        "\n",
        "#¿Cómo podemos mejorar aún más el rendimiento?"
      ],
      "metadata": {
        "id": "YuN2AWKt33rA"
      }
    }
  ],
  "metadata": {
    "kernelspec": {
      "display_name": "Python 3",
      "name": "python3"
    },
    "language_info": {
      "codemirror_mode": {
        "name": "ipython",
        "version": 3
      },
      "file_extension": ".py",
      "mimetype": "text/x-python",
      "name": "python",
      "nbconvert_exporter": "python",
      "pygments_lexer": "ipython3",
      "version": "3.8.3"
    },
    "colab": {
      "provenance": [],
      "gpuType": "T4"
    },
    "accelerator": "GPU"
  },
  "nbformat": 4,
  "nbformat_minor": 0
}